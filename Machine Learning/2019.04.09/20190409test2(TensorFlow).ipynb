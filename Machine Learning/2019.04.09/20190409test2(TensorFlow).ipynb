{
 "cells": [
  {
   "cell_type": "code",
   "execution_count": null,
   "metadata": {},
   "outputs": [],
   "source": [
    "# TensorFlow 설치\n",
    "# 1. Anaconda prompt 에서 conda create --name tensorflow python=3.7  입력\n",
    "# 2. activate tensorflow 입력     --> 그러면 base 에서 tensorflow 로 바뀜\n",
    "# 3. pip install tensorflow  입력하여 설치\n",
    "# 4. python 입력 하면 python 으로 넘어감   >>>> 요 상태\n",
    "# 5. import tensorflow as tf\n",
    "# 6. hello = tf.constant('Hello, Tensorflow')\n",
    "# 7. sess = tf.Session()\n",
    "# 8. print(sess.run(hello))    입력하면 b'Hello, Tensorflow'  라고 나옴\n",
    "# 9. exit() 입력하면 종료 됨\n",
    "\n",
    "## 위에 처럼 설치하면 실행이 안 되어서 다시 설치함\n",
    "# pip uninstall tensorflow\n",
    "# activate tensorflow\n",
    "# conda install jupyter\n",
    "# jupyter notebook  입력하면 창이 뜸\n"
   ]
  },
  {
   "cell_type": "code",
   "execution_count": 1,
   "metadata": {},
   "outputs": [],
   "source": [
    "import tensorflow as tf"
   ]
  },
  {
   "cell_type": "code",
   "execution_count": 2,
   "metadata": {},
   "outputs": [],
   "source": [
    "hello = tf.constant('hello, TensorFlow')"
   ]
  },
  {
   "cell_type": "code",
   "execution_count": 3,
   "metadata": {},
   "outputs": [],
   "source": [
    "sess = tf.Session()"
   ]
  },
  {
   "cell_type": "code",
   "execution_count": 5,
   "metadata": {},
   "outputs": [
    {
     "name": "stdout",
     "output_type": "stream",
     "text": [
      "b'hello, TensorFlow'\n"
     ]
    }
   ],
   "source": [
    "print(sess.run(hello))   # b'hello, TensorFlow'"
   ]
  },
  {
   "cell_type": "code",
   "execution_count": 7,
   "metadata": {},
   "outputs": [],
   "source": [
    "x1 = tf.constant([1,2,3,4])\n",
    "y1 = tf.constant([5,6,7,8])"
   ]
  },
  {
   "cell_type": "code",
   "execution_count": 8,
   "metadata": {},
   "outputs": [
    {
     "data": {
      "text/plain": [
       "<tf.Tensor 'Mul:0' shape=(4,) dtype=int32>"
      ]
     },
     "execution_count": 8,
     "metadata": {},
     "output_type": "execute_result"
    }
   ],
   "source": [
    "result = tf.multiply(x1, y1)\n",
    "result  # <tf.Tensor 'Mul:0' shape=(4,) dtype=int32>\n",
    "print(result)   # Tensor(\"Mul:0\", shape=(4,), dtype=int32)"
   ]
  },
  {
   "cell_type": "code",
   "execution_count": 10,
   "metadata": {},
   "outputs": [
    {
     "data": {
      "text/plain": [
       "array([ 5, 12, 21, 32])"
      ]
     },
     "execution_count": 10,
     "metadata": {},
     "output_type": "execute_result"
    }
   ],
   "source": [
    "sess.run(result)   # array([ 5, 12, 21, 32])"
   ]
  },
  {
   "cell_type": "code",
   "execution_count": 11,
   "metadata": {},
   "outputs": [],
   "source": [
    "import numpy as np\n",
    "test1 = np.array([1.5, 1, 5.0, 23.0])"
   ]
  },
  {
   "cell_type": "code",
   "execution_count": 12,
   "metadata": {},
   "outputs": [
    {
     "data": {
      "text/plain": [
       "array([ 1.5,  1. ,  5. , 23. ])"
      ]
     },
     "execution_count": 12,
     "metadata": {},
     "output_type": "execute_result"
    }
   ],
   "source": [
    "test1   # array([ 1.5,  1. ,  5. , 23. ])"
   ]
  },
  {
   "cell_type": "code",
   "execution_count": null,
   "metadata": {},
   "outputs": [],
   "source": []
  },
  {
   "cell_type": "code",
   "execution_count": null,
   "metadata": {},
   "outputs": [],
   "source": []
  }
 ],
 "metadata": {
  "kernelspec": {
   "display_name": "Python 3",
   "language": "python",
   "name": "python3"
  },
  "language_info": {
   "codemirror_mode": {
    "name": "ipython",
    "version": 3
   },
   "file_extension": ".py",
   "mimetype": "text/x-python",
   "name": "python",
   "nbconvert_exporter": "python",
   "pygments_lexer": "ipython3",
   "version": "3.7.3"
  }
 },
 "nbformat": 4,
 "nbformat_minor": 2
}
