{
 "cells": [
  {
   "cell_type": "code",
   "execution_count": 1,
   "metadata": {},
   "outputs": [],
   "source": [
    "import pandas as pd\n",
    "import numpy as np"
   ]
  },
  {
   "cell_type": "markdown",
   "metadata": {},
   "source": [
    "#### 1. pandas Series\n",
    "* python의 list나 numpy의 array가 인자로 입력된다.\n",
    "* Series의 특징은 값과 함께, 우리가 원하는 index를 입력할 수 있다는 것\n",
    "* 또 다른 특징은 Series의 이름과 index에 이름을 지정해줄 수 있다는 것\n",
    "\n",
    "참고 : https://nittaku.tistory.com/110"
   ]
  },
  {
   "cell_type": "code",
   "execution_count": 2,
   "metadata": {},
   "outputs": [
    {
     "data": {
      "text/plain": [
       "0    1.0\n",
       "1    3.0\n",
       "2    5.0\n",
       "3    NaN\n",
       "4    6.0\n",
       "5    8.0\n",
       "dtype: float64"
      ]
     },
     "execution_count": 2,
     "metadata": {},
     "output_type": "execute_result"
    }
   ],
   "source": [
    "s = pd.Series([1, 3, 5, np.nan, 6, 8])\n",
    "s"
   ]
  },
  {
   "cell_type": "code",
   "execution_count": 5,
   "metadata": {},
   "outputs": [
    {
     "data": {
      "text/plain": [
       "array([ 1.,  3.,  5., nan,  6.,  8.])"
      ]
     },
     "execution_count": 5,
     "metadata": {},
     "output_type": "execute_result"
    }
   ],
   "source": [
    "s.values   # 값(values)만 따로 array로 확인\n",
    "\n",
    "# array([ 1.,  3.,  5., nan,  6.,  8.])"
   ]
  },
  {
   "cell_type": "code",
   "execution_count": 6,
   "metadata": {},
   "outputs": [
    {
     "data": {
      "text/plain": [
       "RangeIndex(start=0, stop=6, step=1)"
      ]
     },
     "execution_count": 6,
     "metadata": {},
     "output_type": "execute_result"
    }
   ],
   "source": [
    "s.index # index 범위값만 얻을 수 있다.\n",
    "\n",
    "# RangeIndex(start=0, stop=6, step=1)"
   ]
  },
  {
   "cell_type": "code",
   "execution_count": 7,
   "metadata": {},
   "outputs": [
    {
     "data": {
      "text/plain": [
       "dtype('float64')"
      ]
     },
     "execution_count": 7,
     "metadata": {},
     "output_type": "execute_result"
    }
   ],
   "source": [
    "s.dtypes # 데이터형을 확인\n",
    "\n",
    "# dtype('float64')"
   ]
  },
  {
   "cell_type": "code",
   "execution_count": 8,
   "metadata": {},
   "outputs": [
    {
     "data": {
      "text/plain": [
       "a    1\n",
       "b    2\n",
       "c    3\n",
       "d    4\n",
       "e    5\n",
       "f    6\n",
       "dtype: int64"
      ]
     },
     "execution_count": 8,
     "metadata": {},
     "output_type": "execute_result"
    }
   ],
   "source": [
    "# 원하는 인덱스 입력\n",
    "s2 = pd.Series([1, 2, 3, 4, 5, 6], index=['a', 'b', 'c', 'd', 'e', 'f'])\n",
    "s2"
   ]
  },
  {
   "cell_type": "markdown",
   "metadata": {},
   "source": [
    "Series는 python 에서 중괄호로 {\"key\": value, \"key\": value} 형식으로 만든 딕셔너리와 비슷"
   ]
  },
  {
   "cell_type": "code",
   "execution_count": 9,
   "metadata": {},
   "outputs": [
    {
     "data": {
      "text/plain": [
       "홍길동    185\n",
       "강감찬    180\n",
       "이순신    175\n",
       "dtype: int64"
      ]
     },
     "execution_count": 9,
     "metadata": {},
     "output_type": "execute_result"
    }
   ],
   "source": [
    "dic1 = {'홍길동' : 185, '강감찬' : 180, \"이순신\" : 175 }\n",
    "\n",
    "s3 = pd.Series(dic1)\n",
    "\n",
    "s3"
   ]
  },
  {
   "cell_type": "code",
   "execution_count": 10,
   "metadata": {},
   "outputs": [
    {
     "data": {
      "text/plain": [
       "이름\n",
       "홍길동    185\n",
       "강감찬    180\n",
       "이순신    175\n",
       "Name: 인물들, dtype: int64"
      ]
     },
     "execution_count": 10,
     "metadata": {},
     "output_type": "execute_result"
    }
   ],
   "source": [
    "# 원하는 Series 이름과 index 이름 지정\n",
    "\n",
    "s3.name = \"인물들\"\n",
    "s3.index.name = '이름'\n",
    "\n",
    "s3"
   ]
  },
  {
   "cell_type": "code",
   "execution_count": 11,
   "metadata": {},
   "outputs": [
    {
     "data": {
      "text/plain": [
       "아버지    185\n",
       "형      180\n",
       "동생     175\n",
       "Name: 인물들, dtype: int64"
      ]
     },
     "execution_count": 11,
     "metadata": {},
     "output_type": "execute_result"
    }
   ],
   "source": [
    "# 직접 입력한 index 값을 변경\n",
    "s3.index = ['아버지', '형', \"동생\"]\n",
    "\n",
    "s3"
   ]
  },
  {
   "cell_type": "markdown",
   "metadata": {},
   "source": [
    "#### 2. pandas DataFrame\n",
    "* python 의 딕셔너리 형태로 Data를 정의해준 뒤 DataFrame을 정의한다.\n",
    "* DataFrame 에서는 2종류의 index가 존재. 가로의 index를 columns\n",
    "* 가로로는 키값(columns), 세로로는 index(리스트 성분의 갯수)"
   ]
  },
  {
   "cell_type": "code",
   "execution_count": 12,
   "metadata": {},
   "outputs": [],
   "source": [
    "data = {\"name\" : ['hong', 'park', 'kim'],\n",
    "        'age' : [29, 25, 20],\n",
    "        \"grade\" : ['a', \"b\", 'c']}\n",
    "\n",
    "df = pd.DataFrame(data)"
   ]
  },
  {
   "cell_type": "code",
   "execution_count": 13,
   "metadata": {},
   "outputs": [
    {
     "data": {
      "text/html": [
       "<div>\n",
       "<style scoped>\n",
       "    .dataframe tbody tr th:only-of-type {\n",
       "        vertical-align: middle;\n",
       "    }\n",
       "\n",
       "    .dataframe tbody tr th {\n",
       "        vertical-align: top;\n",
       "    }\n",
       "\n",
       "    .dataframe thead th {\n",
       "        text-align: right;\n",
       "    }\n",
       "</style>\n",
       "<table border=\"1\" class=\"dataframe\">\n",
       "  <thead>\n",
       "    <tr style=\"text-align: right;\">\n",
       "      <th></th>\n",
       "      <th>name</th>\n",
       "      <th>age</th>\n",
       "      <th>grade</th>\n",
       "    </tr>\n",
       "  </thead>\n",
       "  <tbody>\n",
       "    <tr>\n",
       "      <th>0</th>\n",
       "      <td>hong</td>\n",
       "      <td>29</td>\n",
       "      <td>a</td>\n",
       "    </tr>\n",
       "    <tr>\n",
       "      <th>1</th>\n",
       "      <td>park</td>\n",
       "      <td>25</td>\n",
       "      <td>b</td>\n",
       "    </tr>\n",
       "    <tr>\n",
       "      <th>2</th>\n",
       "      <td>kim</td>\n",
       "      <td>20</td>\n",
       "      <td>c</td>\n",
       "    </tr>\n",
       "  </tbody>\n",
       "</table>\n",
       "</div>"
      ],
      "text/plain": [
       "   name  age grade\n",
       "0  hong   29     a\n",
       "1  park   25     b\n",
       "2   kim   20     c"
      ]
     },
     "execution_count": 13,
     "metadata": {},
     "output_type": "execute_result"
    }
   ],
   "source": [
    "df"
   ]
  },
  {
   "cell_type": "code",
   "execution_count": 14,
   "metadata": {},
   "outputs": [
    {
     "data": {
      "text/plain": [
       "RangeIndex(start=0, stop=3, step=1)"
      ]
     },
     "execution_count": 14,
     "metadata": {},
     "output_type": "execute_result"
    }
   ],
   "source": [
    "df.index\n",
    "\n",
    "# RangeIndex(start=0, stop=3, step=1)"
   ]
  },
  {
   "cell_type": "code",
   "execution_count": 15,
   "metadata": {},
   "outputs": [
    {
     "data": {
      "text/plain": [
       "Index(['name', 'age', 'grade'], dtype='object')"
      ]
     },
     "execution_count": 15,
     "metadata": {},
     "output_type": "execute_result"
    }
   ],
   "source": [
    "df. columns\n",
    "\n",
    "# Index(['name', 'age', 'grade'], dtype='object')"
   ]
  },
  {
   "cell_type": "code",
   "execution_count": 16,
   "metadata": {},
   "outputs": [
    {
     "data": {
      "text/plain": [
       "array([['hong', 29, 'a'],\n",
       "       ['park', 25, 'b'],\n",
       "       ['kim', 20, 'c']], dtype=object)"
      ]
     },
     "execution_count": 16,
     "metadata": {},
     "output_type": "execute_result"
    }
   ],
   "source": [
    "df.values\n",
    "\n",
    "# array([['hong', 29, 'a'],\n",
    "#       ['park', 25, 'b'],\n",
    "#       ['kim', 20, 'c']], dtype=object)"
   ]
  },
  {
   "cell_type": "code",
   "execution_count": 17,
   "metadata": {},
   "outputs": [],
   "source": [
    "# DataFrame 의 index와 columns에 이름 붙이기\n",
    "df.index.name = 'Num'\n",
    "df.columns.name = \"Info\""
   ]
  },
  {
   "cell_type": "code",
   "execution_count": 18,
   "metadata": {
    "scrolled": true
   },
   "outputs": [
    {
     "data": {
      "text/html": [
       "<div>\n",
       "<style scoped>\n",
       "    .dataframe tbody tr th:only-of-type {\n",
       "        vertical-align: middle;\n",
       "    }\n",
       "\n",
       "    .dataframe tbody tr th {\n",
       "        vertical-align: top;\n",
       "    }\n",
       "\n",
       "    .dataframe thead th {\n",
       "        text-align: right;\n",
       "    }\n",
       "</style>\n",
       "<table border=\"1\" class=\"dataframe\">\n",
       "  <thead>\n",
       "    <tr style=\"text-align: right;\">\n",
       "      <th>Info</th>\n",
       "      <th>name</th>\n",
       "      <th>age</th>\n",
       "      <th>grade</th>\n",
       "    </tr>\n",
       "    <tr>\n",
       "      <th>Num</th>\n",
       "      <th></th>\n",
       "      <th></th>\n",
       "      <th></th>\n",
       "    </tr>\n",
       "  </thead>\n",
       "  <tbody>\n",
       "    <tr>\n",
       "      <th>0</th>\n",
       "      <td>hong</td>\n",
       "      <td>29</td>\n",
       "      <td>a</td>\n",
       "    </tr>\n",
       "    <tr>\n",
       "      <th>1</th>\n",
       "      <td>park</td>\n",
       "      <td>25</td>\n",
       "      <td>b</td>\n",
       "    </tr>\n",
       "    <tr>\n",
       "      <th>2</th>\n",
       "      <td>kim</td>\n",
       "      <td>20</td>\n",
       "      <td>c</td>\n",
       "    </tr>\n",
       "  </tbody>\n",
       "</table>\n",
       "</div>"
      ],
      "text/plain": [
       "Info  name  age grade\n",
       "Num                  \n",
       "0     hong   29     a\n",
       "1     park   25     b\n",
       "2      kim   20     c"
      ]
     },
     "execution_count": 18,
     "metadata": {},
     "output_type": "execute_result"
    }
   ],
   "source": [
    "df"
   ]
  },
  {
   "cell_type": "code",
   "execution_count": 19,
   "metadata": {},
   "outputs": [],
   "source": [
    "data2 = {\"name\" : ['hong', 'park', 'kim', 'lee'],\n",
    "        'age' : [29, 25, 20, 21],\n",
    "        \"grade\" : ['a', \"b\", 'c', 'd']}\n",
    "df2 = pd.DataFrame(data2)"
   ]
  },
  {
   "cell_type": "code",
   "execution_count": 20,
   "metadata": {},
   "outputs": [
    {
     "data": {
      "text/html": [
       "<div>\n",
       "<style scoped>\n",
       "    .dataframe tbody tr th:only-of-type {\n",
       "        vertical-align: middle;\n",
       "    }\n",
       "\n",
       "    .dataframe tbody tr th {\n",
       "        vertical-align: top;\n",
       "    }\n",
       "\n",
       "    .dataframe thead th {\n",
       "        text-align: right;\n",
       "    }\n",
       "</style>\n",
       "<table border=\"1\" class=\"dataframe\">\n",
       "  <thead>\n",
       "    <tr style=\"text-align: right;\">\n",
       "      <th></th>\n",
       "      <th>name</th>\n",
       "      <th>age</th>\n",
       "      <th>grade</th>\n",
       "    </tr>\n",
       "  </thead>\n",
       "  <tbody>\n",
       "    <tr>\n",
       "      <th>0</th>\n",
       "      <td>hong</td>\n",
       "      <td>29</td>\n",
       "      <td>a</td>\n",
       "    </tr>\n",
       "    <tr>\n",
       "      <th>1</th>\n",
       "      <td>park</td>\n",
       "      <td>25</td>\n",
       "      <td>b</td>\n",
       "    </tr>\n",
       "    <tr>\n",
       "      <th>2</th>\n",
       "      <td>kim</td>\n",
       "      <td>20</td>\n",
       "      <td>c</td>\n",
       "    </tr>\n",
       "    <tr>\n",
       "      <th>3</th>\n",
       "      <td>lee</td>\n",
       "      <td>21</td>\n",
       "      <td>d</td>\n",
       "    </tr>\n",
       "  </tbody>\n",
       "</table>\n",
       "</div>"
      ],
      "text/plain": [
       "   name  age grade\n",
       "0  hong   29     a\n",
       "1  park   25     b\n",
       "2   kim   20     c\n",
       "3   lee   21     d"
      ]
     },
     "execution_count": 20,
     "metadata": {},
     "output_type": "execute_result"
    }
   ],
   "source": [
    "df2"
   ]
  },
  {
   "cell_type": "markdown",
   "metadata": {},
   "source": [
    "* age 와 grade의 순서를 변경 \n",
    "* NEW 라는 columns 생성\n",
    "* NEW 라는 컬럼에 values를 지정하지 않았기 때문에 NaN 이라고 나온다.\n",
    "* NaN (Not a Number)"
   ]
  },
  {
   "cell_type": "code",
   "execution_count": 23,
   "metadata": {},
   "outputs": [],
   "source": [
    "df3 = pd.DataFrame(data2, columns=['name', 'grade', 'age', 'NEW'],\n",
    "                   index = ['one', 'two', 'three', 'four'])"
   ]
  },
  {
   "cell_type": "code",
   "execution_count": 24,
   "metadata": {},
   "outputs": [
    {
     "data": {
      "text/html": [
       "<div>\n",
       "<style scoped>\n",
       "    .dataframe tbody tr th:only-of-type {\n",
       "        vertical-align: middle;\n",
       "    }\n",
       "\n",
       "    .dataframe tbody tr th {\n",
       "        vertical-align: top;\n",
       "    }\n",
       "\n",
       "    .dataframe thead th {\n",
       "        text-align: right;\n",
       "    }\n",
       "</style>\n",
       "<table border=\"1\" class=\"dataframe\">\n",
       "  <thead>\n",
       "    <tr style=\"text-align: right;\">\n",
       "      <th></th>\n",
       "      <th>name</th>\n",
       "      <th>grade</th>\n",
       "      <th>age</th>\n",
       "      <th>NEW</th>\n",
       "    </tr>\n",
       "  </thead>\n",
       "  <tbody>\n",
       "    <tr>\n",
       "      <th>one</th>\n",
       "      <td>hong</td>\n",
       "      <td>a</td>\n",
       "      <td>29</td>\n",
       "      <td>NaN</td>\n",
       "    </tr>\n",
       "    <tr>\n",
       "      <th>two</th>\n",
       "      <td>park</td>\n",
       "      <td>b</td>\n",
       "      <td>25</td>\n",
       "      <td>NaN</td>\n",
       "    </tr>\n",
       "    <tr>\n",
       "      <th>three</th>\n",
       "      <td>kim</td>\n",
       "      <td>c</td>\n",
       "      <td>20</td>\n",
       "      <td>NaN</td>\n",
       "    </tr>\n",
       "    <tr>\n",
       "      <th>four</th>\n",
       "      <td>lee</td>\n",
       "      <td>d</td>\n",
       "      <td>21</td>\n",
       "      <td>NaN</td>\n",
       "    </tr>\n",
       "  </tbody>\n",
       "</table>\n",
       "</div>"
      ],
      "text/plain": [
       "       name grade  age  NEW\n",
       "one    hong     a   29  NaN\n",
       "two    park     b   25  NaN\n",
       "three   kim     c   20  NaN\n",
       "four    lee     d   21  NaN"
      ]
     },
     "execution_count": 24,
     "metadata": {},
     "output_type": "execute_result"
    }
   ],
   "source": [
    "df3"
   ]
  },
  {
   "cell_type": "markdown",
   "metadata": {},
   "source": [
    "#### 3. pandas date_range\n",
    "* 날짜형의 데이터인 date_range 가 있다.\n",
    "* 기본 날짜를 지정하고 periods 옵션으로 기간을 지정"
   ]
  },
  {
   "cell_type": "code",
   "execution_count": 25,
   "metadata": {},
   "outputs": [
    {
     "data": {
      "text/plain": [
       "DatetimeIndex(['2019-07-05', '2019-07-06', '2019-07-07', '2019-07-08',\n",
       "               '2019-07-09', '2019-07-10', '2019-07-11'],\n",
       "              dtype='datetime64[ns]', freq='D')"
      ]
     },
     "execution_count": 25,
     "metadata": {},
     "output_type": "execute_result"
    }
   ],
   "source": [
    "dates = pd.date_range('20190705', periods=7)\n",
    "\n",
    "dates\n",
    "\n",
    "# DatetimeIndex(['2019-07-05', '2019-07-06', '2019-07-07', '2019-07-08',\n",
    "#               '2019-07-09', '2019-07-10', '2019-07-11'],\n",
    "#               dtype='datetime64[ns]', freq='D')"
   ]
  },
  {
   "cell_type": "markdown",
   "metadata": {},
   "source": [
    "#### 연습하기\n",
    "\n",
    "* DataFrame 형태의 데이터 생성\n",
    "* 7행 4열의 random 변수를 만들고, 컬럼에는 A, B, C, D로 지정\n",
    "* index는 위에서 만든 dates 변수를 이용"
   ]
  },
  {
   "cell_type": "code",
   "execution_count": 26,
   "metadata": {},
   "outputs": [
    {
     "data": {
      "text/html": [
       "<div>\n",
       "<style scoped>\n",
       "    .dataframe tbody tr th:only-of-type {\n",
       "        vertical-align: middle;\n",
       "    }\n",
       "\n",
       "    .dataframe tbody tr th {\n",
       "        vertical-align: top;\n",
       "    }\n",
       "\n",
       "    .dataframe thead th {\n",
       "        text-align: right;\n",
       "    }\n",
       "</style>\n",
       "<table border=\"1\" class=\"dataframe\">\n",
       "  <thead>\n",
       "    <tr style=\"text-align: right;\">\n",
       "      <th></th>\n",
       "      <th>A</th>\n",
       "      <th>B</th>\n",
       "      <th>C</th>\n",
       "      <th>D</th>\n",
       "    </tr>\n",
       "  </thead>\n",
       "  <tbody>\n",
       "    <tr>\n",
       "      <th>2019-07-05</th>\n",
       "      <td>0.218174</td>\n",
       "      <td>-0.751474</td>\n",
       "      <td>-0.043165</td>\n",
       "      <td>0.496226</td>\n",
       "    </tr>\n",
       "    <tr>\n",
       "      <th>2019-07-06</th>\n",
       "      <td>0.692477</td>\n",
       "      <td>-0.896868</td>\n",
       "      <td>-2.416149</td>\n",
       "      <td>0.167083</td>\n",
       "    </tr>\n",
       "    <tr>\n",
       "      <th>2019-07-07</th>\n",
       "      <td>0.441978</td>\n",
       "      <td>1.180014</td>\n",
       "      <td>-0.823068</td>\n",
       "      <td>0.166877</td>\n",
       "    </tr>\n",
       "    <tr>\n",
       "      <th>2019-07-08</th>\n",
       "      <td>-1.458178</td>\n",
       "      <td>0.570124</td>\n",
       "      <td>2.230147</td>\n",
       "      <td>0.294385</td>\n",
       "    </tr>\n",
       "    <tr>\n",
       "      <th>2019-07-09</th>\n",
       "      <td>-1.518938</td>\n",
       "      <td>-0.102630</td>\n",
       "      <td>-0.586794</td>\n",
       "      <td>-0.884566</td>\n",
       "    </tr>\n",
       "    <tr>\n",
       "      <th>2019-07-10</th>\n",
       "      <td>0.997772</td>\n",
       "      <td>-1.422569</td>\n",
       "      <td>0.161246</td>\n",
       "      <td>-0.868626</td>\n",
       "    </tr>\n",
       "    <tr>\n",
       "      <th>2019-07-11</th>\n",
       "      <td>-0.914662</td>\n",
       "      <td>-0.101962</td>\n",
       "      <td>0.555409</td>\n",
       "      <td>-0.709635</td>\n",
       "    </tr>\n",
       "  </tbody>\n",
       "</table>\n",
       "</div>"
      ],
      "text/plain": [
       "                   A         B         C         D\n",
       "2019-07-05  0.218174 -0.751474 -0.043165  0.496226\n",
       "2019-07-06  0.692477 -0.896868 -2.416149  0.167083\n",
       "2019-07-07  0.441978  1.180014 -0.823068  0.166877\n",
       "2019-07-08 -1.458178  0.570124  2.230147  0.294385\n",
       "2019-07-09 -1.518938 -0.102630 -0.586794 -0.884566\n",
       "2019-07-10  0.997772 -1.422569  0.161246 -0.868626\n",
       "2019-07-11 -0.914662 -0.101962  0.555409 -0.709635"
      ]
     },
     "execution_count": 26,
     "metadata": {},
     "output_type": "execute_result"
    }
   ],
   "source": [
    "ran = pd.DataFrame(np.random.randn(7,4), index=dates, columns=['A', 'B', 'C', 'D'])\n",
    "\n",
    "ran"
   ]
  },
  {
   "cell_type": "code",
   "execution_count": 27,
   "metadata": {},
   "outputs": [
    {
     "data": {
      "text/plain": [
       "DatetimeIndex(['2019-07-05', '2019-07-06', '2019-07-07', '2019-07-08',\n",
       "               '2019-07-09', '2019-07-10', '2019-07-11'],\n",
       "              dtype='datetime64[ns]', freq='D')"
      ]
     },
     "execution_count": 27,
     "metadata": {},
     "output_type": "execute_result"
    }
   ],
   "source": [
    "ran.index"
   ]
  },
  {
   "cell_type": "code",
   "execution_count": 28,
   "metadata": {},
   "outputs": [
    {
     "data": {
      "text/plain": [
       "Index(['A', 'B', 'C', 'D'], dtype='object')"
      ]
     },
     "execution_count": 28,
     "metadata": {},
     "output_type": "execute_result"
    }
   ],
   "source": [
    "ran.columns"
   ]
  },
  {
   "cell_type": "code",
   "execution_count": 29,
   "metadata": {
    "scrolled": true
   },
   "outputs": [
    {
     "data": {
      "text/plain": [
       "array([[ 0.21817438, -0.75147357, -0.043165  ,  0.49622641],\n",
       "       [ 0.69247654, -0.89686764, -2.41614855,  0.16708319],\n",
       "       [ 0.44197812,  1.18001361, -0.82306843,  0.16687651],\n",
       "       [-1.45817826,  0.5701241 ,  2.23014679,  0.29438487],\n",
       "       [-1.51893763, -0.10263   , -0.58679418, -0.88456563],\n",
       "       [ 0.99777191, -1.42256949,  0.1612459 , -0.86862559],\n",
       "       [-0.91466161, -0.10196226,  0.55540879, -0.70963471]])"
      ]
     },
     "execution_count": 29,
     "metadata": {},
     "output_type": "execute_result"
    }
   ],
   "source": [
    "ran.values"
   ]
  },
  {
   "cell_type": "code",
   "execution_count": 30,
   "metadata": {},
   "outputs": [
    {
     "name": "stdout",
     "output_type": "stream",
     "text": [
      "<class 'pandas.core.frame.DataFrame'>\n",
      "DatetimeIndex: 7 entries, 2019-07-05 to 2019-07-11\n",
      "Freq: D\n",
      "Data columns (total 4 columns):\n",
      "A    7 non-null float64\n",
      "B    7 non-null float64\n",
      "C    7 non-null float64\n",
      "D    7 non-null float64\n",
      "dtypes: float64(4)\n",
      "memory usage: 280.0 bytes\n"
     ]
    }
   ],
   "source": [
    "ran.info()"
   ]
  },
  {
   "cell_type": "markdown",
   "metadata": {},
   "source": [
    "**.describe()** 메소드는 생성했던 DataFrame의 간단한 통계 정보를 보여준다.\n",
    "\n",
    "데이터의 개수(count)\n",
    "\n",
    "데이터의 평균 값(mean)\n",
    "\n",
    "표준 편차(std) : standard deviation\n",
    "\n",
    "최솟값(min)\n",
    "\n",
    "4분위수(25%, 50%, 75%)\n",
    "\n",
    "최댓값(max)"
   ]
  },
  {
   "cell_type": "code",
   "execution_count": 31,
   "metadata": {},
   "outputs": [
    {
     "data": {
      "text/html": [
       "<div>\n",
       "<style scoped>\n",
       "    .dataframe tbody tr th:only-of-type {\n",
       "        vertical-align: middle;\n",
       "    }\n",
       "\n",
       "    .dataframe tbody tr th {\n",
       "        vertical-align: top;\n",
       "    }\n",
       "\n",
       "    .dataframe thead th {\n",
       "        text-align: right;\n",
       "    }\n",
       "</style>\n",
       "<table border=\"1\" class=\"dataframe\">\n",
       "  <thead>\n",
       "    <tr style=\"text-align: right;\">\n",
       "      <th></th>\n",
       "      <th>A</th>\n",
       "      <th>B</th>\n",
       "      <th>C</th>\n",
       "      <th>D</th>\n",
       "    </tr>\n",
       "  </thead>\n",
       "  <tbody>\n",
       "    <tr>\n",
       "      <th>count</th>\n",
       "      <td>7.000000</td>\n",
       "      <td>7.000000</td>\n",
       "      <td>7.000000</td>\n",
       "      <td>7.000000</td>\n",
       "    </tr>\n",
       "    <tr>\n",
       "      <th>mean</th>\n",
       "      <td>-0.220197</td>\n",
       "      <td>-0.217909</td>\n",
       "      <td>-0.131768</td>\n",
       "      <td>-0.191179</td>\n",
       "    </tr>\n",
       "    <tr>\n",
       "      <th>std</th>\n",
       "      <td>1.052669</td>\n",
       "      <td>0.894315</td>\n",
       "      <td>1.417033</td>\n",
       "      <td>0.601854</td>\n",
       "    </tr>\n",
       "    <tr>\n",
       "      <th>min</th>\n",
       "      <td>-1.518938</td>\n",
       "      <td>-1.422569</td>\n",
       "      <td>-2.416149</td>\n",
       "      <td>-0.884566</td>\n",
       "    </tr>\n",
       "    <tr>\n",
       "      <th>25%</th>\n",
       "      <td>-1.186420</td>\n",
       "      <td>-0.824171</td>\n",
       "      <td>-0.704931</td>\n",
       "      <td>-0.789130</td>\n",
       "    </tr>\n",
       "    <tr>\n",
       "      <th>50%</th>\n",
       "      <td>0.218174</td>\n",
       "      <td>-0.102630</td>\n",
       "      <td>-0.043165</td>\n",
       "      <td>0.166877</td>\n",
       "    </tr>\n",
       "    <tr>\n",
       "      <th>75%</th>\n",
       "      <td>0.567227</td>\n",
       "      <td>0.234081</td>\n",
       "      <td>0.358327</td>\n",
       "      <td>0.230734</td>\n",
       "    </tr>\n",
       "    <tr>\n",
       "      <th>max</th>\n",
       "      <td>0.997772</td>\n",
       "      <td>1.180014</td>\n",
       "      <td>2.230147</td>\n",
       "      <td>0.496226</td>\n",
       "    </tr>\n",
       "  </tbody>\n",
       "</table>\n",
       "</div>"
      ],
      "text/plain": [
       "              A         B         C         D\n",
       "count  7.000000  7.000000  7.000000  7.000000\n",
       "mean  -0.220197 -0.217909 -0.131768 -0.191179\n",
       "std    1.052669  0.894315  1.417033  0.601854\n",
       "min   -1.518938 -1.422569 -2.416149 -0.884566\n",
       "25%   -1.186420 -0.824171 -0.704931 -0.789130\n",
       "50%    0.218174 -0.102630 -0.043165  0.166877\n",
       "75%    0.567227  0.234081  0.358327  0.230734\n",
       "max    0.997772  1.180014  2.230147  0.496226"
      ]
     },
     "execution_count": 31,
     "metadata": {},
     "output_type": "execute_result"
    }
   ],
   "source": [
    "ran.describe()"
   ]
  },
  {
   "cell_type": "markdown",
   "metadata": {},
   "source": [
    "**sort_values** 는 **by** 로 지정된 컬럼을 기준으로 정렬한다\n",
    "\n",
    "**ascending** 옵션으로 내림차순이나 오름차순으로 정렬할 수 있다.\n",
    "\n",
    "**ascending** 을 지정하지 않으면 default 값으로 오름차순이 된다."
   ]
  },
  {
   "cell_type": "code",
   "execution_count": 36,
   "metadata": {},
   "outputs": [
    {
     "data": {
      "text/html": [
       "<div>\n",
       "<style scoped>\n",
       "    .dataframe tbody tr th:only-of-type {\n",
       "        vertical-align: middle;\n",
       "    }\n",
       "\n",
       "    .dataframe tbody tr th {\n",
       "        vertical-align: top;\n",
       "    }\n",
       "\n",
       "    .dataframe thead th {\n",
       "        text-align: right;\n",
       "    }\n",
       "</style>\n",
       "<table border=\"1\" class=\"dataframe\">\n",
       "  <thead>\n",
       "    <tr style=\"text-align: right;\">\n",
       "      <th></th>\n",
       "      <th>A</th>\n",
       "      <th>B</th>\n",
       "      <th>C</th>\n",
       "      <th>D</th>\n",
       "    </tr>\n",
       "  </thead>\n",
       "  <tbody>\n",
       "    <tr>\n",
       "      <th>2019-07-07</th>\n",
       "      <td>0.441978</td>\n",
       "      <td>1.180014</td>\n",
       "      <td>-0.823068</td>\n",
       "      <td>0.166877</td>\n",
       "    </tr>\n",
       "    <tr>\n",
       "      <th>2019-07-08</th>\n",
       "      <td>-1.458178</td>\n",
       "      <td>0.570124</td>\n",
       "      <td>2.230147</td>\n",
       "      <td>0.294385</td>\n",
       "    </tr>\n",
       "    <tr>\n",
       "      <th>2019-07-11</th>\n",
       "      <td>-0.914662</td>\n",
       "      <td>-0.101962</td>\n",
       "      <td>0.555409</td>\n",
       "      <td>-0.709635</td>\n",
       "    </tr>\n",
       "    <tr>\n",
       "      <th>2019-07-09</th>\n",
       "      <td>-1.518938</td>\n",
       "      <td>-0.102630</td>\n",
       "      <td>-0.586794</td>\n",
       "      <td>-0.884566</td>\n",
       "    </tr>\n",
       "    <tr>\n",
       "      <th>2019-07-05</th>\n",
       "      <td>0.218174</td>\n",
       "      <td>-0.751474</td>\n",
       "      <td>-0.043165</td>\n",
       "      <td>0.496226</td>\n",
       "    </tr>\n",
       "    <tr>\n",
       "      <th>2019-07-06</th>\n",
       "      <td>0.692477</td>\n",
       "      <td>-0.896868</td>\n",
       "      <td>-2.416149</td>\n",
       "      <td>0.167083</td>\n",
       "    </tr>\n",
       "    <tr>\n",
       "      <th>2019-07-10</th>\n",
       "      <td>0.997772</td>\n",
       "      <td>-1.422569</td>\n",
       "      <td>0.161246</td>\n",
       "      <td>-0.868626</td>\n",
       "    </tr>\n",
       "  </tbody>\n",
       "</table>\n",
       "</div>"
      ],
      "text/plain": [
       "                   A         B         C         D\n",
       "2019-07-07  0.441978  1.180014 -0.823068  0.166877\n",
       "2019-07-08 -1.458178  0.570124  2.230147  0.294385\n",
       "2019-07-11 -0.914662 -0.101962  0.555409 -0.709635\n",
       "2019-07-09 -1.518938 -0.102630 -0.586794 -0.884566\n",
       "2019-07-05  0.218174 -0.751474 -0.043165  0.496226\n",
       "2019-07-06  0.692477 -0.896868 -2.416149  0.167083\n",
       "2019-07-10  0.997772 -1.422569  0.161246 -0.868626"
      ]
     },
     "execution_count": 36,
     "metadata": {},
     "output_type": "execute_result"
    }
   ],
   "source": [
    "ran.sort_values(by='B', ascending=False)"
   ]
  },
  {
   "cell_type": "code",
   "execution_count": 38,
   "metadata": {
    "scrolled": false
   },
   "outputs": [
    {
     "data": {
      "text/plain": [
       "2019-07-05    0.218174\n",
       "2019-07-06    0.692477\n",
       "2019-07-07    0.441978\n",
       "2019-07-08   -1.458178\n",
       "2019-07-09   -1.518938\n",
       "2019-07-10    0.997772\n",
       "2019-07-11   -0.914662\n",
       "Freq: D, Name: A, dtype: float64"
      ]
     },
     "execution_count": 38,
     "metadata": {},
     "output_type": "execute_result"
    }
   ],
   "source": [
    "# 변수명 뒤에 ['columns명'] 을 하면 해당 컬럼만 Series로 보여준다\n",
    "\n",
    "ran['A']"
   ]
  },
  {
   "cell_type": "code",
   "execution_count": 41,
   "metadata": {},
   "outputs": [
    {
     "data": {
      "text/html": [
       "<div>\n",
       "<style scoped>\n",
       "    .dataframe tbody tr th:only-of-type {\n",
       "        vertical-align: middle;\n",
       "    }\n",
       "\n",
       "    .dataframe tbody tr th {\n",
       "        vertical-align: top;\n",
       "    }\n",
       "\n",
       "    .dataframe thead th {\n",
       "        text-align: right;\n",
       "    }\n",
       "</style>\n",
       "<table border=\"1\" class=\"dataframe\">\n",
       "  <thead>\n",
       "    <tr style=\"text-align: right;\">\n",
       "      <th></th>\n",
       "      <th>A</th>\n",
       "      <th>B</th>\n",
       "      <th>C</th>\n",
       "      <th>D</th>\n",
       "    </tr>\n",
       "  </thead>\n",
       "  <tbody>\n",
       "    <tr>\n",
       "      <th>2019-07-06</th>\n",
       "      <td>0.692477</td>\n",
       "      <td>-0.896868</td>\n",
       "      <td>-2.416149</td>\n",
       "      <td>0.167083</td>\n",
       "    </tr>\n",
       "    <tr>\n",
       "      <th>2019-07-07</th>\n",
       "      <td>0.441978</td>\n",
       "      <td>1.180014</td>\n",
       "      <td>-0.823068</td>\n",
       "      <td>0.166877</td>\n",
       "    </tr>\n",
       "  </tbody>\n",
       "</table>\n",
       "</div>"
      ],
      "text/plain": [
       "                   A         B         C         D\n",
       "2019-07-06  0.692477 -0.896868 -2.416149  0.167083\n",
       "2019-07-07  0.441978  1.180014 -0.823068  0.166877"
      ]
     },
     "execution_count": 41,
     "metadata": {},
     "output_type": "execute_result"
    }
   ],
   "source": [
    "ran[1:3]"
   ]
  },
  {
   "cell_type": "code",
   "execution_count": 51,
   "metadata": {},
   "outputs": [
    {
     "data": {
      "text/plain": [
       "2019-07-05    0.218174\n",
       "2019-07-06    0.692477\n",
       "2019-07-07    0.441978\n",
       "Freq: D, Name: A, dtype: float64"
      ]
     },
     "execution_count": 51,
     "metadata": {},
     "output_type": "execute_result"
    }
   ],
   "source": [
    "ran['A'][0:3]"
   ]
  },
  {
   "cell_type": "code",
   "execution_count": 58,
   "metadata": {},
   "outputs": [
    {
     "data": {
      "text/html": [
       "<div>\n",
       "<style scoped>\n",
       "    .dataframe tbody tr th:only-of-type {\n",
       "        vertical-align: middle;\n",
       "    }\n",
       "\n",
       "    .dataframe tbody tr th {\n",
       "        vertical-align: top;\n",
       "    }\n",
       "\n",
       "    .dataframe thead th {\n",
       "        text-align: right;\n",
       "    }\n",
       "</style>\n",
       "<table border=\"1\" class=\"dataframe\">\n",
       "  <thead>\n",
       "    <tr style=\"text-align: right;\">\n",
       "      <th></th>\n",
       "      <th>A</th>\n",
       "      <th>B</th>\n",
       "      <th>C</th>\n",
       "      <th>D</th>\n",
       "    </tr>\n",
       "  </thead>\n",
       "  <tbody>\n",
       "    <tr>\n",
       "      <th>2019-07-05</th>\n",
       "      <td>0.218174</td>\n",
       "      <td>-0.751474</td>\n",
       "      <td>-0.043165</td>\n",
       "      <td>0.496226</td>\n",
       "    </tr>\n",
       "    <tr>\n",
       "      <th>2019-07-06</th>\n",
       "      <td>0.692477</td>\n",
       "      <td>-0.896868</td>\n",
       "      <td>-2.416149</td>\n",
       "      <td>0.167083</td>\n",
       "    </tr>\n",
       "    <tr>\n",
       "      <th>2019-07-07</th>\n",
       "      <td>0.441978</td>\n",
       "      <td>1.180014</td>\n",
       "      <td>-0.823068</td>\n",
       "      <td>0.166877</td>\n",
       "    </tr>\n",
       "  </tbody>\n",
       "</table>\n",
       "</div>"
      ],
      "text/plain": [
       "                   A         B         C         D\n",
       "2019-07-05  0.218174 -0.751474 -0.043165  0.496226\n",
       "2019-07-06  0.692477 -0.896868 -2.416149  0.167083\n",
       "2019-07-07  0.441978  1.180014 -0.823068  0.166877"
      ]
     },
     "execution_count": 58,
     "metadata": {},
     "output_type": "execute_result"
    }
   ],
   "source": [
    "ran['20190705':'20190707']"
   ]
  },
  {
   "cell_type": "code",
   "execution_count": 64,
   "metadata": {},
   "outputs": [
    {
     "data": {
      "text/plain": [
       "A    0.218174\n",
       "B   -0.751474\n",
       "C   -0.043165\n",
       "D    0.496226\n",
       "Name: 2019-07-05 00:00:00, dtype: float64"
      ]
     },
     "execution_count": 64,
     "metadata": {},
     "output_type": "execute_result"
    }
   ],
   "source": [
    "# 20190705 의 내용을 Series 형태로 출력\n",
    "\n",
    "ran.loc[dates[0]]"
   ]
  },
  {
   "cell_type": "code",
   "execution_count": 60,
   "metadata": {
    "scrolled": true
   },
   "outputs": [
    {
     "data": {
      "text/html": [
       "<div>\n",
       "<style scoped>\n",
       "    .dataframe tbody tr th:only-of-type {\n",
       "        vertical-align: middle;\n",
       "    }\n",
       "\n",
       "    .dataframe tbody tr th {\n",
       "        vertical-align: top;\n",
       "    }\n",
       "\n",
       "    .dataframe thead th {\n",
       "        text-align: right;\n",
       "    }\n",
       "</style>\n",
       "<table border=\"1\" class=\"dataframe\">\n",
       "  <thead>\n",
       "    <tr style=\"text-align: right;\">\n",
       "      <th></th>\n",
       "      <th>A</th>\n",
       "      <th>C</th>\n",
       "    </tr>\n",
       "  </thead>\n",
       "  <tbody>\n",
       "    <tr>\n",
       "      <th>2019-07-05</th>\n",
       "      <td>0.218174</td>\n",
       "      <td>-0.043165</td>\n",
       "    </tr>\n",
       "    <tr>\n",
       "      <th>2019-07-06</th>\n",
       "      <td>0.692477</td>\n",
       "      <td>-2.416149</td>\n",
       "    </tr>\n",
       "    <tr>\n",
       "      <th>2019-07-07</th>\n",
       "      <td>0.441978</td>\n",
       "      <td>-0.823068</td>\n",
       "    </tr>\n",
       "    <tr>\n",
       "      <th>2019-07-08</th>\n",
       "      <td>-1.458178</td>\n",
       "      <td>2.230147</td>\n",
       "    </tr>\n",
       "    <tr>\n",
       "      <th>2019-07-09</th>\n",
       "      <td>-1.518938</td>\n",
       "      <td>-0.586794</td>\n",
       "    </tr>\n",
       "    <tr>\n",
       "      <th>2019-07-10</th>\n",
       "      <td>0.997772</td>\n",
       "      <td>0.161246</td>\n",
       "    </tr>\n",
       "    <tr>\n",
       "      <th>2019-07-11</th>\n",
       "      <td>-0.914662</td>\n",
       "      <td>0.555409</td>\n",
       "    </tr>\n",
       "  </tbody>\n",
       "</table>\n",
       "</div>"
      ],
      "text/plain": [
       "                   A         C\n",
       "2019-07-05  0.218174 -0.043165\n",
       "2019-07-06  0.692477 -2.416149\n",
       "2019-07-07  0.441978 -0.823068\n",
       "2019-07-08 -1.458178  2.230147\n",
       "2019-07-09 -1.518938 -0.586794\n",
       "2019-07-10  0.997772  0.161246\n",
       "2019-07-11 -0.914662  0.555409"
      ]
     },
     "execution_count": 60,
     "metadata": {},
     "output_type": "execute_result"
    }
   ],
   "source": [
    "ran.loc[:,['A','C']]"
   ]
  },
  {
   "cell_type": "code",
   "execution_count": 65,
   "metadata": {},
   "outputs": [
    {
     "data": {
      "text/html": [
       "<div>\n",
       "<style scoped>\n",
       "    .dataframe tbody tr th:only-of-type {\n",
       "        vertical-align: middle;\n",
       "    }\n",
       "\n",
       "    .dataframe tbody tr th {\n",
       "        vertical-align: top;\n",
       "    }\n",
       "\n",
       "    .dataframe thead th {\n",
       "        text-align: right;\n",
       "    }\n",
       "</style>\n",
       "<table border=\"1\" class=\"dataframe\">\n",
       "  <thead>\n",
       "    <tr style=\"text-align: right;\">\n",
       "      <th></th>\n",
       "      <th>A</th>\n",
       "      <th>C</th>\n",
       "    </tr>\n",
       "  </thead>\n",
       "  <tbody>\n",
       "    <tr>\n",
       "      <th>2019-07-05</th>\n",
       "      <td>0.218174</td>\n",
       "      <td>-0.043165</td>\n",
       "    </tr>\n",
       "    <tr>\n",
       "      <th>2019-07-06</th>\n",
       "      <td>0.692477</td>\n",
       "      <td>-2.416149</td>\n",
       "    </tr>\n",
       "    <tr>\n",
       "      <th>2019-07-07</th>\n",
       "      <td>0.441978</td>\n",
       "      <td>-0.823068</td>\n",
       "    </tr>\n",
       "  </tbody>\n",
       "</table>\n",
       "</div>"
      ],
      "text/plain": [
       "                   A         C\n",
       "2019-07-05  0.218174 -0.043165\n",
       "2019-07-06  0.692477 -2.416149\n",
       "2019-07-07  0.441978 -0.823068"
      ]
     },
     "execution_count": 65,
     "metadata": {},
     "output_type": "execute_result"
    }
   ],
   "source": [
    "ran.loc['20190705':'20190707',['A', 'C']]"
   ]
  },
  {
   "cell_type": "code",
   "execution_count": 67,
   "metadata": {},
   "outputs": [
    {
     "data": {
      "text/plain": [
       "A    0.218174\n",
       "C   -0.043165\n",
       "Name: 2019-07-05 00:00:00, dtype: float64"
      ]
     },
     "execution_count": 67,
     "metadata": {},
     "output_type": "execute_result"
    }
   ],
   "source": [
    "ran.loc['20190705',['A', 'C']]"
   ]
  },
  {
   "cell_type": "code",
   "execution_count": 70,
   "metadata": {},
   "outputs": [
    {
     "data": {
      "text/plain": [
       "A    0.218174\n",
       "C   -0.043165\n",
       "Name: 2019-07-05 00:00:00, dtype: float64"
      ]
     },
     "execution_count": 70,
     "metadata": {},
     "output_type": "execute_result"
    }
   ],
   "source": [
    "ran.loc[dates[0], ['A', 'C']]"
   ]
  },
  {
   "cell_type": "code",
   "execution_count": 71,
   "metadata": {},
   "outputs": [
    {
     "data": {
      "text/plain": [
       "0.2181743788260634"
      ]
     },
     "execution_count": 71,
     "metadata": {},
     "output_type": "execute_result"
    }
   ],
   "source": [
    "ran.loc[dates[0], 'A']"
   ]
  },
  {
   "cell_type": "markdown",
   "metadata": {},
   "source": [
    "* loc 와 달리 행과 열의 번호를 이용해서 데이터에 접근하는 방법은 iloc이다"
   ]
  },
  {
   "cell_type": "code",
   "execution_count": 72,
   "metadata": {},
   "outputs": [
    {
     "data": {
      "text/plain": [
       "A    0.218174\n",
       "B   -0.751474\n",
       "C   -0.043165\n",
       "D    0.496226\n",
       "Name: 2019-07-05 00:00:00, dtype: float64"
      ]
     },
     "execution_count": 72,
     "metadata": {},
     "output_type": "execute_result"
    }
   ],
   "source": [
    "ran.iloc[0]    # ran.loc[dates[0]] 와 결과가 같다."
   ]
  },
  {
   "cell_type": "code",
   "execution_count": 73,
   "metadata": {},
   "outputs": [
    {
     "data": {
      "text/html": [
       "<div>\n",
       "<style scoped>\n",
       "    .dataframe tbody tr th:only-of-type {\n",
       "        vertical-align: middle;\n",
       "    }\n",
       "\n",
       "    .dataframe tbody tr th {\n",
       "        vertical-align: top;\n",
       "    }\n",
       "\n",
       "    .dataframe thead th {\n",
       "        text-align: right;\n",
       "    }\n",
       "</style>\n",
       "<table border=\"1\" class=\"dataframe\">\n",
       "  <thead>\n",
       "    <tr style=\"text-align: right;\">\n",
       "      <th></th>\n",
       "      <th>A</th>\n",
       "      <th>B</th>\n",
       "    </tr>\n",
       "  </thead>\n",
       "  <tbody>\n",
       "    <tr>\n",
       "      <th>2019-07-05</th>\n",
       "      <td>0.218174</td>\n",
       "      <td>-0.751474</td>\n",
       "    </tr>\n",
       "    <tr>\n",
       "      <th>2019-07-06</th>\n",
       "      <td>0.692477</td>\n",
       "      <td>-0.896868</td>\n",
       "    </tr>\n",
       "    <tr>\n",
       "      <th>2019-07-07</th>\n",
       "      <td>0.441978</td>\n",
       "      <td>1.180014</td>\n",
       "    </tr>\n",
       "    <tr>\n",
       "      <th>2019-07-08</th>\n",
       "      <td>-1.458178</td>\n",
       "      <td>0.570124</td>\n",
       "    </tr>\n",
       "    <tr>\n",
       "      <th>2019-07-09</th>\n",
       "      <td>-1.518938</td>\n",
       "      <td>-0.102630</td>\n",
       "    </tr>\n",
       "    <tr>\n",
       "      <th>2019-07-10</th>\n",
       "      <td>0.997772</td>\n",
       "      <td>-1.422569</td>\n",
       "    </tr>\n",
       "    <tr>\n",
       "      <th>2019-07-11</th>\n",
       "      <td>-0.914662</td>\n",
       "      <td>-0.101962</td>\n",
       "    </tr>\n",
       "  </tbody>\n",
       "</table>\n",
       "</div>"
      ],
      "text/plain": [
       "                   A         B\n",
       "2019-07-05  0.218174 -0.751474\n",
       "2019-07-06  0.692477 -0.896868\n",
       "2019-07-07  0.441978  1.180014\n",
       "2019-07-08 -1.458178  0.570124\n",
       "2019-07-09 -1.518938 -0.102630\n",
       "2019-07-10  0.997772 -1.422569\n",
       "2019-07-11 -0.914662 -0.101962"
      ]
     },
     "execution_count": 73,
     "metadata": {},
     "output_type": "execute_result"
    }
   ],
   "source": [
    "ran.iloc[:,0:2]   # ran.loc[:,['A','B']] 와 결과가 같다."
   ]
  },
  {
   "cell_type": "code",
   "execution_count": 74,
   "metadata": {},
   "outputs": [
    {
     "data": {
      "text/html": [
       "<div>\n",
       "<style scoped>\n",
       "    .dataframe tbody tr th:only-of-type {\n",
       "        vertical-align: middle;\n",
       "    }\n",
       "\n",
       "    .dataframe tbody tr th {\n",
       "        vertical-align: top;\n",
       "    }\n",
       "\n",
       "    .dataframe thead th {\n",
       "        text-align: right;\n",
       "    }\n",
       "</style>\n",
       "<table border=\"1\" class=\"dataframe\">\n",
       "  <thead>\n",
       "    <tr style=\"text-align: right;\">\n",
       "      <th></th>\n",
       "      <th>A</th>\n",
       "      <th>C</th>\n",
       "    </tr>\n",
       "  </thead>\n",
       "  <tbody>\n",
       "    <tr>\n",
       "      <th>2019-07-05</th>\n",
       "      <td>0.218174</td>\n",
       "      <td>-0.043165</td>\n",
       "    </tr>\n",
       "    <tr>\n",
       "      <th>2019-07-06</th>\n",
       "      <td>0.692477</td>\n",
       "      <td>-2.416149</td>\n",
       "    </tr>\n",
       "    <tr>\n",
       "      <th>2019-07-08</th>\n",
       "      <td>-1.458178</td>\n",
       "      <td>2.230147</td>\n",
       "    </tr>\n",
       "  </tbody>\n",
       "</table>\n",
       "</div>"
      ],
      "text/plain": [
       "                   A         C\n",
       "2019-07-05  0.218174 -0.043165\n",
       "2019-07-06  0.692477 -2.416149\n",
       "2019-07-08 -1.458178  2.230147"
      ]
     },
     "execution_count": 74,
     "metadata": {},
     "output_type": "execute_result"
    }
   ],
   "source": [
    "ran.iloc[[0,1,3],[0,2]]"
   ]
  },
  {
   "cell_type": "code",
   "execution_count": 78,
   "metadata": {},
   "outputs": [
    {
     "data": {
      "text/html": [
       "<div>\n",
       "<style scoped>\n",
       "    .dataframe tbody tr th:only-of-type {\n",
       "        vertical-align: middle;\n",
       "    }\n",
       "\n",
       "    .dataframe tbody tr th {\n",
       "        vertical-align: top;\n",
       "    }\n",
       "\n",
       "    .dataframe thead th {\n",
       "        text-align: right;\n",
       "    }\n",
       "</style>\n",
       "<table border=\"1\" class=\"dataframe\">\n",
       "  <thead>\n",
       "    <tr style=\"text-align: right;\">\n",
       "      <th></th>\n",
       "      <th>A</th>\n",
       "      <th>B</th>\n",
       "      <th>C</th>\n",
       "      <th>D</th>\n",
       "    </tr>\n",
       "  </thead>\n",
       "  <tbody>\n",
       "    <tr>\n",
       "      <th>2019-07-06</th>\n",
       "      <td>0.692477</td>\n",
       "      <td>-0.896868</td>\n",
       "      <td>-2.416149</td>\n",
       "      <td>0.167083</td>\n",
       "    </tr>\n",
       "    <tr>\n",
       "      <th>2019-07-07</th>\n",
       "      <td>0.441978</td>\n",
       "      <td>1.180014</td>\n",
       "      <td>-0.823068</td>\n",
       "      <td>0.166877</td>\n",
       "    </tr>\n",
       "  </tbody>\n",
       "</table>\n",
       "</div>"
      ],
      "text/plain": [
       "                   A         B         C         D\n",
       "2019-07-06  0.692477 -0.896868 -2.416149  0.167083\n",
       "2019-07-07  0.441978  1.180014 -0.823068  0.166877"
      ]
     },
     "execution_count": 78,
     "metadata": {},
     "output_type": "execute_result"
    }
   ],
   "source": [
    "# 행은 두 번째와 세 번째만 가져오고 열은 다 가져오기\n",
    "ran.iloc[1:3,:]"
   ]
  },
  {
   "cell_type": "code",
   "execution_count": 79,
   "metadata": {},
   "outputs": [
    {
     "data": {
      "text/html": [
       "<div>\n",
       "<style scoped>\n",
       "    .dataframe tbody tr th:only-of-type {\n",
       "        vertical-align: middle;\n",
       "    }\n",
       "\n",
       "    .dataframe tbody tr th {\n",
       "        vertical-align: top;\n",
       "    }\n",
       "\n",
       "    .dataframe thead th {\n",
       "        text-align: right;\n",
       "    }\n",
       "</style>\n",
       "<table border=\"1\" class=\"dataframe\">\n",
       "  <thead>\n",
       "    <tr style=\"text-align: right;\">\n",
       "      <th></th>\n",
       "      <th>B</th>\n",
       "      <th>C</th>\n",
       "    </tr>\n",
       "  </thead>\n",
       "  <tbody>\n",
       "    <tr>\n",
       "      <th>2019-07-05</th>\n",
       "      <td>-0.751474</td>\n",
       "      <td>-0.043165</td>\n",
       "    </tr>\n",
       "    <tr>\n",
       "      <th>2019-07-06</th>\n",
       "      <td>-0.896868</td>\n",
       "      <td>-2.416149</td>\n",
       "    </tr>\n",
       "    <tr>\n",
       "      <th>2019-07-07</th>\n",
       "      <td>1.180014</td>\n",
       "      <td>-0.823068</td>\n",
       "    </tr>\n",
       "    <tr>\n",
       "      <th>2019-07-08</th>\n",
       "      <td>0.570124</td>\n",
       "      <td>2.230147</td>\n",
       "    </tr>\n",
       "    <tr>\n",
       "      <th>2019-07-09</th>\n",
       "      <td>-0.102630</td>\n",
       "      <td>-0.586794</td>\n",
       "    </tr>\n",
       "    <tr>\n",
       "      <th>2019-07-10</th>\n",
       "      <td>-1.422569</td>\n",
       "      <td>0.161246</td>\n",
       "    </tr>\n",
       "    <tr>\n",
       "      <th>2019-07-11</th>\n",
       "      <td>-0.101962</td>\n",
       "      <td>0.555409</td>\n",
       "    </tr>\n",
       "  </tbody>\n",
       "</table>\n",
       "</div>"
      ],
      "text/plain": [
       "                   B         C\n",
       "2019-07-05 -0.751474 -0.043165\n",
       "2019-07-06 -0.896868 -2.416149\n",
       "2019-07-07  1.180014 -0.823068\n",
       "2019-07-08  0.570124  2.230147\n",
       "2019-07-09 -0.102630 -0.586794\n",
       "2019-07-10 -1.422569  0.161246\n",
       "2019-07-11 -0.101962  0.555409"
      ]
     },
     "execution_count": 79,
     "metadata": {},
     "output_type": "execute_result"
    }
   ],
   "source": [
    "ran.iloc[:, 1:3]"
   ]
  },
  {
   "cell_type": "code",
   "execution_count": 80,
   "metadata": {},
   "outputs": [
    {
     "data": {
      "text/html": [
       "<div>\n",
       "<style scoped>\n",
       "    .dataframe tbody tr th:only-of-type {\n",
       "        vertical-align: middle;\n",
       "    }\n",
       "\n",
       "    .dataframe tbody tr th {\n",
       "        vertical-align: top;\n",
       "    }\n",
       "\n",
       "    .dataframe thead th {\n",
       "        text-align: right;\n",
       "    }\n",
       "</style>\n",
       "<table border=\"1\" class=\"dataframe\">\n",
       "  <thead>\n",
       "    <tr style=\"text-align: right;\">\n",
       "      <th></th>\n",
       "      <th>A</th>\n",
       "      <th>B</th>\n",
       "      <th>C</th>\n",
       "      <th>D</th>\n",
       "    </tr>\n",
       "  </thead>\n",
       "  <tbody>\n",
       "    <tr>\n",
       "      <th>2019-07-05</th>\n",
       "      <td>0.218174</td>\n",
       "      <td>-0.751474</td>\n",
       "      <td>-0.043165</td>\n",
       "      <td>0.496226</td>\n",
       "    </tr>\n",
       "    <tr>\n",
       "      <th>2019-07-06</th>\n",
       "      <td>0.692477</td>\n",
       "      <td>-0.896868</td>\n",
       "      <td>-2.416149</td>\n",
       "      <td>0.167083</td>\n",
       "    </tr>\n",
       "    <tr>\n",
       "      <th>2019-07-07</th>\n",
       "      <td>0.441978</td>\n",
       "      <td>1.180014</td>\n",
       "      <td>-0.823068</td>\n",
       "      <td>0.166877</td>\n",
       "    </tr>\n",
       "    <tr>\n",
       "      <th>2019-07-08</th>\n",
       "      <td>-1.458178</td>\n",
       "      <td>0.570124</td>\n",
       "      <td>2.230147</td>\n",
       "      <td>0.294385</td>\n",
       "    </tr>\n",
       "    <tr>\n",
       "      <th>2019-07-09</th>\n",
       "      <td>-1.518938</td>\n",
       "      <td>-0.102630</td>\n",
       "      <td>-0.586794</td>\n",
       "      <td>-0.884566</td>\n",
       "    </tr>\n",
       "    <tr>\n",
       "      <th>2019-07-10</th>\n",
       "      <td>0.997772</td>\n",
       "      <td>-1.422569</td>\n",
       "      <td>0.161246</td>\n",
       "      <td>-0.868626</td>\n",
       "    </tr>\n",
       "    <tr>\n",
       "      <th>2019-07-11</th>\n",
       "      <td>-0.914662</td>\n",
       "      <td>-0.101962</td>\n",
       "      <td>0.555409</td>\n",
       "      <td>-0.709635</td>\n",
       "    </tr>\n",
       "  </tbody>\n",
       "</table>\n",
       "</div>"
      ],
      "text/plain": [
       "                   A         B         C         D\n",
       "2019-07-05  0.218174 -0.751474 -0.043165  0.496226\n",
       "2019-07-06  0.692477 -0.896868 -2.416149  0.167083\n",
       "2019-07-07  0.441978  1.180014 -0.823068  0.166877\n",
       "2019-07-08 -1.458178  0.570124  2.230147  0.294385\n",
       "2019-07-09 -1.518938 -0.102630 -0.586794 -0.884566\n",
       "2019-07-10  0.997772 -1.422569  0.161246 -0.868626\n",
       "2019-07-11 -0.914662 -0.101962  0.555409 -0.709635"
      ]
     },
     "execution_count": 80,
     "metadata": {},
     "output_type": "execute_result"
    }
   ],
   "source": [
    "ran"
   ]
  },
  {
   "cell_type": "code",
   "execution_count": 83,
   "metadata": {},
   "outputs": [
    {
     "data": {
      "text/plain": [
       "2019-07-05    0.218174\n",
       "2019-07-06    0.692477\n",
       "2019-07-07    0.441978\n",
       "2019-07-08   -1.458178\n",
       "2019-07-09   -1.518938\n",
       "2019-07-10    0.997772\n",
       "2019-07-11   -0.914662\n",
       "Freq: D, Name: A, dtype: float64"
      ]
     },
     "execution_count": 83,
     "metadata": {},
     "output_type": "execute_result"
    }
   ],
   "source": [
    "ran.A   # ran['A'] 과 같다."
   ]
  },
  {
   "cell_type": "code",
   "execution_count": 84,
   "metadata": {
    "scrolled": true
   },
   "outputs": [
    {
     "data": {
      "text/html": [
       "<div>\n",
       "<style scoped>\n",
       "    .dataframe tbody tr th:only-of-type {\n",
       "        vertical-align: middle;\n",
       "    }\n",
       "\n",
       "    .dataframe tbody tr th {\n",
       "        vertical-align: top;\n",
       "    }\n",
       "\n",
       "    .dataframe thead th {\n",
       "        text-align: right;\n",
       "    }\n",
       "</style>\n",
       "<table border=\"1\" class=\"dataframe\">\n",
       "  <thead>\n",
       "    <tr style=\"text-align: right;\">\n",
       "      <th></th>\n",
       "      <th>A</th>\n",
       "      <th>B</th>\n",
       "      <th>C</th>\n",
       "      <th>D</th>\n",
       "    </tr>\n",
       "  </thead>\n",
       "  <tbody>\n",
       "    <tr>\n",
       "      <th>2019-07-05</th>\n",
       "      <td>0.218174</td>\n",
       "      <td>-0.751474</td>\n",
       "      <td>-0.043165</td>\n",
       "      <td>0.496226</td>\n",
       "    </tr>\n",
       "    <tr>\n",
       "      <th>2019-07-06</th>\n",
       "      <td>0.692477</td>\n",
       "      <td>-0.896868</td>\n",
       "      <td>-2.416149</td>\n",
       "      <td>0.167083</td>\n",
       "    </tr>\n",
       "    <tr>\n",
       "      <th>2019-07-07</th>\n",
       "      <td>0.441978</td>\n",
       "      <td>1.180014</td>\n",
       "      <td>-0.823068</td>\n",
       "      <td>0.166877</td>\n",
       "    </tr>\n",
       "    <tr>\n",
       "      <th>2019-07-10</th>\n",
       "      <td>0.997772</td>\n",
       "      <td>-1.422569</td>\n",
       "      <td>0.161246</td>\n",
       "      <td>-0.868626</td>\n",
       "    </tr>\n",
       "  </tbody>\n",
       "</table>\n",
       "</div>"
      ],
      "text/plain": [
       "                   A         B         C         D\n",
       "2019-07-05  0.218174 -0.751474 -0.043165  0.496226\n",
       "2019-07-06  0.692477 -0.896868 -2.416149  0.167083\n",
       "2019-07-07  0.441978  1.180014 -0.823068  0.166877\n",
       "2019-07-10  0.997772 -1.422569  0.161246 -0.868626"
      ]
     },
     "execution_count": 84,
     "metadata": {},
     "output_type": "execute_result"
    }
   ],
   "source": [
    "# 컬럼 A 에서 0 보다 큰 행만 출력하기.\n",
    "ran[ran.A > 0]"
   ]
  },
  {
   "cell_type": "code",
   "execution_count": 85,
   "metadata": {
    "scrolled": true
   },
   "outputs": [
    {
     "data": {
      "text/html": [
       "<div>\n",
       "<style scoped>\n",
       "    .dataframe tbody tr th:only-of-type {\n",
       "        vertical-align: middle;\n",
       "    }\n",
       "\n",
       "    .dataframe tbody tr th {\n",
       "        vertical-align: top;\n",
       "    }\n",
       "\n",
       "    .dataframe thead th {\n",
       "        text-align: right;\n",
       "    }\n",
       "</style>\n",
       "<table border=\"1\" class=\"dataframe\">\n",
       "  <thead>\n",
       "    <tr style=\"text-align: right;\">\n",
       "      <th></th>\n",
       "      <th>A</th>\n",
       "      <th>B</th>\n",
       "      <th>C</th>\n",
       "      <th>D</th>\n",
       "    </tr>\n",
       "  </thead>\n",
       "  <tbody>\n",
       "    <tr>\n",
       "      <th>2019-07-05</th>\n",
       "      <td>0.218174</td>\n",
       "      <td>NaN</td>\n",
       "      <td>NaN</td>\n",
       "      <td>0.496226</td>\n",
       "    </tr>\n",
       "    <tr>\n",
       "      <th>2019-07-06</th>\n",
       "      <td>0.692477</td>\n",
       "      <td>NaN</td>\n",
       "      <td>NaN</td>\n",
       "      <td>0.167083</td>\n",
       "    </tr>\n",
       "    <tr>\n",
       "      <th>2019-07-07</th>\n",
       "      <td>0.441978</td>\n",
       "      <td>1.180014</td>\n",
       "      <td>NaN</td>\n",
       "      <td>0.166877</td>\n",
       "    </tr>\n",
       "    <tr>\n",
       "      <th>2019-07-08</th>\n",
       "      <td>NaN</td>\n",
       "      <td>0.570124</td>\n",
       "      <td>2.230147</td>\n",
       "      <td>0.294385</td>\n",
       "    </tr>\n",
       "    <tr>\n",
       "      <th>2019-07-09</th>\n",
       "      <td>NaN</td>\n",
       "      <td>NaN</td>\n",
       "      <td>NaN</td>\n",
       "      <td>NaN</td>\n",
       "    </tr>\n",
       "    <tr>\n",
       "      <th>2019-07-10</th>\n",
       "      <td>0.997772</td>\n",
       "      <td>NaN</td>\n",
       "      <td>0.161246</td>\n",
       "      <td>NaN</td>\n",
       "    </tr>\n",
       "    <tr>\n",
       "      <th>2019-07-11</th>\n",
       "      <td>NaN</td>\n",
       "      <td>NaN</td>\n",
       "      <td>0.555409</td>\n",
       "      <td>NaN</td>\n",
       "    </tr>\n",
       "  </tbody>\n",
       "</table>\n",
       "</div>"
      ],
      "text/plain": [
       "                   A         B         C         D\n",
       "2019-07-05  0.218174       NaN       NaN  0.496226\n",
       "2019-07-06  0.692477       NaN       NaN  0.167083\n",
       "2019-07-07  0.441978  1.180014       NaN  0.166877\n",
       "2019-07-08       NaN  0.570124  2.230147  0.294385\n",
       "2019-07-09       NaN       NaN       NaN       NaN\n",
       "2019-07-10  0.997772       NaN  0.161246       NaN\n",
       "2019-07-11       NaN       NaN  0.555409       NaN"
      ]
     },
     "execution_count": 85,
     "metadata": {},
     "output_type": "execute_result"
    }
   ],
   "source": [
    "# 데이터 전체에 조건을 걸면 만족하지 않은 곳은 NaN 으로 처리가 된다.\n",
    "\n",
    "ran[ran > 0]"
   ]
  },
  {
   "cell_type": "markdown",
   "metadata": {},
   "source": [
    "* DataFrame 을 복사할 때 ' = ' 를 사용해서 복사하면 실제 데이터 내용이 복사되는 것이 아니라 데이터 위치만 복사하기 때문에 원본 데이터는 하나만 존재한다.\n",
    "\n",
    "* 데이터의 내용까지 복사하려면 **copy()** 를 사용한다"
   ]
  },
  {
   "cell_type": "code",
   "execution_count": 86,
   "metadata": {},
   "outputs": [],
   "source": [
    "ran2 = ran.copy()"
   ]
  },
  {
   "cell_type": "code",
   "execution_count": 90,
   "metadata": {},
   "outputs": [
    {
     "data": {
      "text/html": [
       "<div>\n",
       "<style scoped>\n",
       "    .dataframe tbody tr th:only-of-type {\n",
       "        vertical-align: middle;\n",
       "    }\n",
       "\n",
       "    .dataframe tbody tr th {\n",
       "        vertical-align: top;\n",
       "    }\n",
       "\n",
       "    .dataframe thead th {\n",
       "        text-align: right;\n",
       "    }\n",
       "</style>\n",
       "<table border=\"1\" class=\"dataframe\">\n",
       "  <thead>\n",
       "    <tr style=\"text-align: right;\">\n",
       "      <th></th>\n",
       "      <th>A</th>\n",
       "      <th>B</th>\n",
       "      <th>C</th>\n",
       "      <th>D</th>\n",
       "      <th>E</th>\n",
       "    </tr>\n",
       "  </thead>\n",
       "  <tbody>\n",
       "    <tr>\n",
       "      <th>2019-07-05</th>\n",
       "      <td>0.218174</td>\n",
       "      <td>-0.751474</td>\n",
       "      <td>-0.043165</td>\n",
       "      <td>0.496226</td>\n",
       "      <td>one</td>\n",
       "    </tr>\n",
       "    <tr>\n",
       "      <th>2019-07-06</th>\n",
       "      <td>0.692477</td>\n",
       "      <td>-0.896868</td>\n",
       "      <td>-2.416149</td>\n",
       "      <td>0.167083</td>\n",
       "      <td>two</td>\n",
       "    </tr>\n",
       "    <tr>\n",
       "      <th>2019-07-07</th>\n",
       "      <td>0.441978</td>\n",
       "      <td>1.180014</td>\n",
       "      <td>-0.823068</td>\n",
       "      <td>0.166877</td>\n",
       "      <td>three</td>\n",
       "    </tr>\n",
       "    <tr>\n",
       "      <th>2019-07-08</th>\n",
       "      <td>-1.458178</td>\n",
       "      <td>0.570124</td>\n",
       "      <td>2.230147</td>\n",
       "      <td>0.294385</td>\n",
       "      <td>one</td>\n",
       "    </tr>\n",
       "    <tr>\n",
       "      <th>2019-07-09</th>\n",
       "      <td>-1.518938</td>\n",
       "      <td>-0.102630</td>\n",
       "      <td>-0.586794</td>\n",
       "      <td>-0.884566</td>\n",
       "      <td>five</td>\n",
       "    </tr>\n",
       "    <tr>\n",
       "      <th>2019-07-10</th>\n",
       "      <td>0.997772</td>\n",
       "      <td>-1.422569</td>\n",
       "      <td>0.161246</td>\n",
       "      <td>-0.868626</td>\n",
       "      <td>two</td>\n",
       "    </tr>\n",
       "    <tr>\n",
       "      <th>2019-07-11</th>\n",
       "      <td>-0.914662</td>\n",
       "      <td>-0.101962</td>\n",
       "      <td>0.555409</td>\n",
       "      <td>-0.709635</td>\n",
       "      <td>seven</td>\n",
       "    </tr>\n",
       "  </tbody>\n",
       "</table>\n",
       "</div>"
      ],
      "text/plain": [
       "                   A         B         C         D      E\n",
       "2019-07-05  0.218174 -0.751474 -0.043165  0.496226    one\n",
       "2019-07-06  0.692477 -0.896868 -2.416149  0.167083    two\n",
       "2019-07-07  0.441978  1.180014 -0.823068  0.166877  three\n",
       "2019-07-08 -1.458178  0.570124  2.230147  0.294385    one\n",
       "2019-07-09 -1.518938 -0.102630 -0.586794 -0.884566   five\n",
       "2019-07-10  0.997772 -1.422569  0.161246 -0.868626    two\n",
       "2019-07-11 -0.914662 -0.101962  0.555409 -0.709635  seven"
      ]
     },
     "execution_count": 90,
     "metadata": {},
     "output_type": "execute_result"
    }
   ],
   "source": [
    "# ran2['E'] = ['one', 'two', 'three', 'four', 'five', 'six', 'seven']\n",
    "ran2['E'] = ['one', 'two', 'three', 'one', 'five', 'two', 'seven']\n",
    "\n",
    "ran2"
   ]
  },
  {
   "cell_type": "code",
   "execution_count": 98,
   "metadata": {},
   "outputs": [
    {
     "data": {
      "text/plain": [
       "2019-07-05     True\n",
       "2019-07-06     True\n",
       "2019-07-07    False\n",
       "2019-07-08     True\n",
       "2019-07-09    False\n",
       "2019-07-10     True\n",
       "2019-07-11    False\n",
       "Freq: D, Name: E, dtype: bool"
      ]
     },
     "execution_count": 98,
     "metadata": {},
     "output_type": "execute_result"
    }
   ],
   "source": [
    "# E 컬럼에서 one 과 two 가 있는지 확인하기           .isin() 사용\n",
    "\n",
    "ran2['E'].isin(['one', 'two'])\n"
   ]
  },
  {
   "cell_type": "code",
   "execution_count": 99,
   "metadata": {},
   "outputs": [
    {
     "data": {
      "text/html": [
       "<div>\n",
       "<style scoped>\n",
       "    .dataframe tbody tr th:only-of-type {\n",
       "        vertical-align: middle;\n",
       "    }\n",
       "\n",
       "    .dataframe tbody tr th {\n",
       "        vertical-align: top;\n",
       "    }\n",
       "\n",
       "    .dataframe thead th {\n",
       "        text-align: right;\n",
       "    }\n",
       "</style>\n",
       "<table border=\"1\" class=\"dataframe\">\n",
       "  <thead>\n",
       "    <tr style=\"text-align: right;\">\n",
       "      <th></th>\n",
       "      <th>A</th>\n",
       "      <th>B</th>\n",
       "      <th>C</th>\n",
       "      <th>D</th>\n",
       "      <th>E</th>\n",
       "    </tr>\n",
       "  </thead>\n",
       "  <tbody>\n",
       "    <tr>\n",
       "      <th>2019-07-05</th>\n",
       "      <td>0.218174</td>\n",
       "      <td>-0.751474</td>\n",
       "      <td>-0.043165</td>\n",
       "      <td>0.496226</td>\n",
       "      <td>one</td>\n",
       "    </tr>\n",
       "    <tr>\n",
       "      <th>2019-07-06</th>\n",
       "      <td>0.692477</td>\n",
       "      <td>-0.896868</td>\n",
       "      <td>-2.416149</td>\n",
       "      <td>0.167083</td>\n",
       "      <td>two</td>\n",
       "    </tr>\n",
       "    <tr>\n",
       "      <th>2019-07-08</th>\n",
       "      <td>-1.458178</td>\n",
       "      <td>0.570124</td>\n",
       "      <td>2.230147</td>\n",
       "      <td>0.294385</td>\n",
       "      <td>one</td>\n",
       "    </tr>\n",
       "    <tr>\n",
       "      <th>2019-07-10</th>\n",
       "      <td>0.997772</td>\n",
       "      <td>-1.422569</td>\n",
       "      <td>0.161246</td>\n",
       "      <td>-0.868626</td>\n",
       "      <td>two</td>\n",
       "    </tr>\n",
       "  </tbody>\n",
       "</table>\n",
       "</div>"
      ],
      "text/plain": [
       "                   A         B         C         D    E\n",
       "2019-07-05  0.218174 -0.751474 -0.043165  0.496226  one\n",
       "2019-07-06  0.692477 -0.896868 -2.416149  0.167083  two\n",
       "2019-07-08 -1.458178  0.570124  2.230147  0.294385  one\n",
       "2019-07-10  0.997772 -1.422569  0.161246 -0.868626  two"
      ]
     },
     "execution_count": 99,
     "metadata": {},
     "output_type": "execute_result"
    }
   ],
   "source": [
    "# ran2 에서 E 컬럼에 one 이나 two가 있는 값만 출력\n",
    "\n",
    "ran2[ran2['E'].isin(['one', 'two'])]"
   ]
  },
  {
   "cell_type": "markdown",
   "metadata": {},
   "source": [
    "* 누적합을 알고 싶을 때는 **numpy** 의 **cumsum** 을 이용"
   ]
  },
  {
   "cell_type": "code",
   "execution_count": 100,
   "metadata": {},
   "outputs": [
    {
     "data": {
      "text/html": [
       "<div>\n",
       "<style scoped>\n",
       "    .dataframe tbody tr th:only-of-type {\n",
       "        vertical-align: middle;\n",
       "    }\n",
       "\n",
       "    .dataframe tbody tr th {\n",
       "        vertical-align: top;\n",
       "    }\n",
       "\n",
       "    .dataframe thead th {\n",
       "        text-align: right;\n",
       "    }\n",
       "</style>\n",
       "<table border=\"1\" class=\"dataframe\">\n",
       "  <thead>\n",
       "    <tr style=\"text-align: right;\">\n",
       "      <th></th>\n",
       "      <th>A</th>\n",
       "      <th>B</th>\n",
       "      <th>C</th>\n",
       "      <th>D</th>\n",
       "      <th>E</th>\n",
       "    </tr>\n",
       "  </thead>\n",
       "  <tbody>\n",
       "    <tr>\n",
       "      <th>2019-07-05</th>\n",
       "      <td>0.218174</td>\n",
       "      <td>-0.751474</td>\n",
       "      <td>-0.043165</td>\n",
       "      <td>0.496226</td>\n",
       "      <td>one</td>\n",
       "    </tr>\n",
       "    <tr>\n",
       "      <th>2019-07-06</th>\n",
       "      <td>0.910651</td>\n",
       "      <td>-1.648341</td>\n",
       "      <td>-2.459314</td>\n",
       "      <td>0.663310</td>\n",
       "      <td>onetwo</td>\n",
       "    </tr>\n",
       "    <tr>\n",
       "      <th>2019-07-07</th>\n",
       "      <td>1.352629</td>\n",
       "      <td>-0.468328</td>\n",
       "      <td>-3.282382</td>\n",
       "      <td>0.830186</td>\n",
       "      <td>onetwothree</td>\n",
       "    </tr>\n",
       "    <tr>\n",
       "      <th>2019-07-08</th>\n",
       "      <td>-0.105549</td>\n",
       "      <td>0.101797</td>\n",
       "      <td>-1.052235</td>\n",
       "      <td>1.124571</td>\n",
       "      <td>onetwothreeone</td>\n",
       "    </tr>\n",
       "    <tr>\n",
       "      <th>2019-07-09</th>\n",
       "      <td>-1.624487</td>\n",
       "      <td>-0.000833</td>\n",
       "      <td>-1.639029</td>\n",
       "      <td>0.240005</td>\n",
       "      <td>onetwothreeonefive</td>\n",
       "    </tr>\n",
       "    <tr>\n",
       "      <th>2019-07-10</th>\n",
       "      <td>-0.626715</td>\n",
       "      <td>-1.423403</td>\n",
       "      <td>-1.477783</td>\n",
       "      <td>-0.628620</td>\n",
       "      <td>onetwothreeonefivetwo</td>\n",
       "    </tr>\n",
       "    <tr>\n",
       "      <th>2019-07-11</th>\n",
       "      <td>-1.541377</td>\n",
       "      <td>-1.525365</td>\n",
       "      <td>-0.922375</td>\n",
       "      <td>-1.338255</td>\n",
       "      <td>onetwothreeonefivetwoseven</td>\n",
       "    </tr>\n",
       "  </tbody>\n",
       "</table>\n",
       "</div>"
      ],
      "text/plain": [
       "                   A         B         C         D                           E\n",
       "2019-07-05  0.218174 -0.751474 -0.043165  0.496226                         one\n",
       "2019-07-06  0.910651 -1.648341 -2.459314  0.663310                      onetwo\n",
       "2019-07-07  1.352629 -0.468328 -3.282382  0.830186                 onetwothree\n",
       "2019-07-08 -0.105549  0.101797 -1.052235  1.124571              onetwothreeone\n",
       "2019-07-09 -1.624487 -0.000833 -1.639029  0.240005          onetwothreeonefive\n",
       "2019-07-10 -0.626715 -1.423403 -1.477783 -0.628620       onetwothreeonefivetwo\n",
       "2019-07-11 -1.541377 -1.525365 -0.922375 -1.338255  onetwothreeonefivetwoseven"
      ]
     },
     "execution_count": 100,
     "metadata": {},
     "output_type": "execute_result"
    }
   ],
   "source": [
    "ran2.apply(np.cumsum)"
   ]
  },
  {
   "cell_type": "code",
   "execution_count": 104,
   "metadata": {},
   "outputs": [
    {
     "data": {
      "text/html": [
       "<div>\n",
       "<style scoped>\n",
       "    .dataframe tbody tr th:only-of-type {\n",
       "        vertical-align: middle;\n",
       "    }\n",
       "\n",
       "    .dataframe tbody tr th {\n",
       "        vertical-align: top;\n",
       "    }\n",
       "\n",
       "    .dataframe thead th {\n",
       "        text-align: right;\n",
       "    }\n",
       "</style>\n",
       "<table border=\"1\" class=\"dataframe\">\n",
       "  <thead>\n",
       "    <tr style=\"text-align: right;\">\n",
       "      <th></th>\n",
       "      <th>A</th>\n",
       "      <th>B</th>\n",
       "      <th>C</th>\n",
       "      <th>D</th>\n",
       "    </tr>\n",
       "  </thead>\n",
       "  <tbody>\n",
       "    <tr>\n",
       "      <th>2019-07-05</th>\n",
       "      <td>0.218174</td>\n",
       "      <td>-0.751474</td>\n",
       "      <td>-0.043165</td>\n",
       "      <td>0.496226</td>\n",
       "    </tr>\n",
       "    <tr>\n",
       "      <th>2019-07-06</th>\n",
       "      <td>0.692477</td>\n",
       "      <td>-0.896868</td>\n",
       "      <td>-2.416149</td>\n",
       "      <td>0.167083</td>\n",
       "    </tr>\n",
       "    <tr>\n",
       "      <th>2019-07-07</th>\n",
       "      <td>0.441978</td>\n",
       "      <td>1.180014</td>\n",
       "      <td>-0.823068</td>\n",
       "      <td>0.166877</td>\n",
       "    </tr>\n",
       "    <tr>\n",
       "      <th>2019-07-08</th>\n",
       "      <td>-1.458178</td>\n",
       "      <td>0.570124</td>\n",
       "      <td>2.230147</td>\n",
       "      <td>0.294385</td>\n",
       "    </tr>\n",
       "    <tr>\n",
       "      <th>2019-07-09</th>\n",
       "      <td>-1.518938</td>\n",
       "      <td>-0.102630</td>\n",
       "      <td>-0.586794</td>\n",
       "      <td>-0.884566</td>\n",
       "    </tr>\n",
       "    <tr>\n",
       "      <th>2019-07-10</th>\n",
       "      <td>0.997772</td>\n",
       "      <td>-1.422569</td>\n",
       "      <td>0.161246</td>\n",
       "      <td>-0.868626</td>\n",
       "    </tr>\n",
       "    <tr>\n",
       "      <th>2019-07-11</th>\n",
       "      <td>-0.914662</td>\n",
       "      <td>-0.101962</td>\n",
       "      <td>0.555409</td>\n",
       "      <td>-0.709635</td>\n",
       "    </tr>\n",
       "  </tbody>\n",
       "</table>\n",
       "</div>"
      ],
      "text/plain": [
       "                   A         B         C         D\n",
       "2019-07-05  0.218174 -0.751474 -0.043165  0.496226\n",
       "2019-07-06  0.692477 -0.896868 -2.416149  0.167083\n",
       "2019-07-07  0.441978  1.180014 -0.823068  0.166877\n",
       "2019-07-08 -1.458178  0.570124  2.230147  0.294385\n",
       "2019-07-09 -1.518938 -0.102630 -0.586794 -0.884566\n",
       "2019-07-10  0.997772 -1.422569  0.161246 -0.868626\n",
       "2019-07-11 -0.914662 -0.101962  0.555409 -0.709635"
      ]
     },
     "execution_count": 104,
     "metadata": {},
     "output_type": "execute_result"
    }
   ],
   "source": [
    "ran"
   ]
  },
  {
   "cell_type": "markdown",
   "metadata": {},
   "source": [
    "* 최대값과 최소값의 차이(혹은 거리)를 알고 싶다면 one-line 함수인 lambda 를 이용할 수 있다."
   ]
  },
  {
   "cell_type": "code",
   "execution_count": 102,
   "metadata": {},
   "outputs": [
    {
     "data": {
      "text/plain": [
       "A    2.516710\n",
       "B    2.602583\n",
       "C    4.646295\n",
       "D    1.380792\n",
       "dtype: float64"
      ]
     },
     "execution_count": 102,
     "metadata": {},
     "output_type": "execute_result"
    }
   ],
   "source": [
    "ran.apply(lambda x: x.max() - x.min())"
   ]
  },
  {
   "cell_type": "code",
   "execution_count": null,
   "metadata": {},
   "outputs": [],
   "source": []
  }
 ],
 "metadata": {
  "kernelspec": {
   "display_name": "Python 3",
   "language": "python",
   "name": "python3"
  },
  "language_info": {
   "codemirror_mode": {
    "name": "ipython",
    "version": 3
   },
   "file_extension": ".py",
   "mimetype": "text/x-python",
   "name": "python",
   "nbconvert_exporter": "python",
   "pygments_lexer": "ipython3",
   "version": "3.7.3"
  }
 },
 "nbformat": 4,
 "nbformat_minor": 2
}
