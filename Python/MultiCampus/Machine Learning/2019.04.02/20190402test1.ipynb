{
 "cells": [
  {
   "cell_type": "code",
   "execution_count": 8,
   "metadata": {},
   "outputs": [
    {
     "name": "stdout",
     "output_type": "stream",
     "text": [
      "1 <class 'int'>\n",
      "1 2\n",
      "test string <class 'str'>\n"
     ]
    }
   ],
   "source": [
    "test = 1          # test 라는 변수를 선언해서 int 타입의 1로 초기화 시킴\n",
    "print(test,type(test)) # 1 <class 'int'>\n",
    "a, b = 1,2\n",
    "print(a,b)\n",
    "test2 = \"test string\"\n",
    "print(test2, type(test2)) # test string <class 'str'>"
   ]
  },
  {
   "cell_type": "code",
   "execution_count": null,
   "metadata": {},
   "outputs": [],
   "source": [
    "test2[0]            # 't'\n",
    "test2[1:2]          # 'e'\n",
    "test2[:]            # 'test string'\n",
    "test2 * 2           # 'test stringtest string'\n"
   ]
  },
  {
   "cell_type": "code",
   "execution_count": null,
   "metadata": {},
   "outputs": [],
   "source": [
    "test3 = ['a','b', 'c']\n",
    "test3[0] # 'a'\n",
    "test3[1:4] # ['b', 'c']\n",
    "test3[1]   # 'b'\n",
    "test3[1] * 2 # 'bb'"
   ]
  },
  {
   "cell_type": "code",
   "execution_count": null,
   "metadata": {},
   "outputs": [],
   "source": [
    "test4 = [1, \"a\", 'c']\n",
    "test4  # [1, 'a', 'c']\n",
    "test4[0] # 1\n",
    "test4[0] = 'd'\n",
    "test4 # ['d', 'a', 'c']\n",
    "test5 = [1,2]\n",
    "test4[0] = test5\n",
    "test4   # [[1, 2], 'a', 'c']\n"
   ]
  },
  {
   "cell_type": "code",
   "execution_count": null,
   "metadata": {},
   "outputs": [],
   "source": [
    "test6 = (1, \"a\", 'c')\n",
    "test6 # (1, 'a', 'c')\n",
    "test6[0] # 1\n",
    "# test6[0] = [1,2]   TypeError: 'tuple' object does not support item assignment\n",
    "test7 = [('a',1), ('b',1)]\n",
    "test7 # [('a', 1), ('b', 1)]\n",
    "test8 = (('a',1), ('b',1))\n",
    "test8[0] # ('a', 1)\n",
    "test8[0:2]  # (('a', 1), ('b', 1))\n",
    "\n"
   ]
  },
  {
   "cell_type": "code",
   "execution_count": null,
   "metadata": {},
   "outputs": [],
   "source": [
    "test9 = {'name' : 'tome', 'age' : 20}\n",
    "test9 # {'name': 'tome', 'age': 20}\n",
    "test9['name'] # 'tome'\n",
    "test9['age'] # 20\n",
    "test9['age'] = 30\n",
    "test9 # {'name': 'tome', 'age': 30}\n",
    "\n",
    "test10 = {}\n",
    "test10['one'] = 20\n",
    "test10\n",
    "test10[2] = 30\n",
    "test10 # {'one': 20, 2: 30}\n",
    "test10[2] # 30\n",
    "test10.keys() # dict_keys(['one', 2])\n",
    "test10.values() # dict_values([20, 30])\n",
    "\n",
    "del test10"
   ]
  },
  {
   "cell_type": "code",
   "execution_count": null,
   "metadata": {},
   "outputs": [],
   "source": [
    "test11 = \"1\"\n",
    "type(test11)  # str\n",
    "test12 = int(test11)\n",
    "type(test12) # int"
   ]
  },
  {
   "cell_type": "code",
   "execution_count": null,
   "metadata": {},
   "outputs": [],
   "source": [
    "test12 = [1,2,3,4]\n",
    "if(1 in test12):\n",
    "    print(\"ok\")"
   ]
  },
  {
   "cell_type": "code",
   "execution_count": null,
   "metadata": {},
   "outputs": [],
   "source": [
    "a,b,c = 1,2,1\n",
    "if(a is c):\n",
    "    print(\"ok\")\n",
    "else:\n",
    "    print(\"no\")"
   ]
  },
  {
   "cell_type": "code",
   "execution_count": null,
   "metadata": {},
   "outputs": [],
   "source": [
    "d = 10\n",
    "if(d == 10) : print(\"ok\")   # ok"
   ]
  },
  {
   "cell_type": "code",
   "execution_count": null,
   "metadata": {},
   "outputs": [],
   "source": [
    "cnt = 0\n",
    "while(cnt < 10):\n",
    "    print(cnt)\n",
    "    cnt = cnt + 1"
   ]
  },
  {
   "cell_type": "code",
   "execution_count": null,
   "metadata": {},
   "outputs": [],
   "source": [
    "cnt1 = 0\n",
    "while(cnt1 < 10):\n",
    "    print(cnt1)\n",
    "    cnt1 = cnt1 + 1\n",
    "else:\n",
    "    print(\"end\")"
   ]
  },
  {
   "cell_type": "code",
   "execution_count": null,
   "metadata": {},
   "outputs": [],
   "source": [
    "#check = 1\n",
    "#while(check) : print(\"ok\")"
   ]
  },
  {
   "cell_type": "code",
   "execution_count": 1,
   "metadata": {},
   "outputs": [
    {
     "name": "stdout",
     "output_type": "stream",
     "text": [
      "apple\n",
      "samsung\n",
      "google\n"
     ]
    }
   ],
   "source": [
    "test13 = ['apple', 'samsung', 'google']\n",
    "for i in range(len(test13)) :\n",
    "    print(test13[i])\n",
    "    "
   ]
  },
  {
   "cell_type": "code",
   "execution_count": 2,
   "metadata": {},
   "outputs": [],
   "source": [
    "for i in range(len(test13)) : \n",
    "    pass"
   ]
  },
  {
   "cell_type": "code",
   "execution_count": 3,
   "metadata": {},
   "outputs": [],
   "source": [
    "def add(a,b) :\n",
    "    return a + b"
   ]
  },
  {
   "cell_type": "code",
   "execution_count": 5,
   "metadata": {},
   "outputs": [
    {
     "name": "stdout",
     "output_type": "stream",
     "text": [
      "4\n"
     ]
    }
   ],
   "source": [
    "test14 = add(1,3)\n",
    "print(test14)"
   ]
  },
  {
   "cell_type": "code",
   "execution_count": 9,
   "metadata": {},
   "outputs": [],
   "source": [
    "def testfunc(d):\n",
    "    d = [10, 20, 30]\n",
    "    print(d)\n",
    "    return"
   ]
  },
  {
   "cell_type": "code",
   "execution_count": 11,
   "metadata": {},
   "outputs": [
    {
     "name": "stdout",
     "output_type": "stream",
     "text": [
      "[10, 20, 30]\n",
      "[1, 2, 3]\n"
     ]
    }
   ],
   "source": [
    "mylist = [1,2,3]\n",
    "testfunc(mylist)\n",
    "print(mylist)   \n",
    "#[10, 20, 30]\n",
    "#[1, 2, 3]"
   ]
  },
  {
   "cell_type": "code",
   "execution_count": 12,
   "metadata": {},
   "outputs": [],
   "source": [
    "def add(a,b,c):\n",
    "    print(a,b,c)"
   ]
  },
  {
   "cell_type": "code",
   "execution_count": 22,
   "metadata": {},
   "outputs": [
    {
     "name": "stdout",
     "output_type": "stream",
     "text": [
      "1 2 3\n",
      "1 0 0\n"
     ]
    }
   ],
   "source": [
    "add(a = 1, b = 2, c = 3) # 1 2 3\n",
    "#add(1) # TypeError: add() missing 2 required positional arguments: 'b' and 'c'\n",
    "\n",
    "def add1(a = 0, b = 0, c = 0) :\n",
    "    print(a, b, c)\n",
    "add1(1) # 1 0 0"
   ]
  }
 ],
 "metadata": {
  "kernelspec": {
   "display_name": "Python 3",
   "language": "python",
   "name": "python3"
  },
  "language_info": {
   "codemirror_mode": {
    "name": "ipython",
    "version": 3
   },
   "file_extension": ".py",
   "mimetype": "text/x-python",
   "name": "python",
   "nbconvert_exporter": "python",
   "pygments_lexer": "ipython3",
   "version": "3.7.1"
  }
 },
 "nbformat": 4,
 "nbformat_minor": 2
}
