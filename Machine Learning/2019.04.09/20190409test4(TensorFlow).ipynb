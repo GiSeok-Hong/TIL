{
 "cells": [
  {
   "cell_type": "code",
   "execution_count": 1,
   "metadata": {},
   "outputs": [
    {
     "data": {
      "text/plain": [
       "30.0"
      ]
     },
     "execution_count": 1,
     "metadata": {},
     "output_type": "execute_result"
    }
   ],
   "source": [
    "# TensorFlow code\n",
    "\n",
    "\n",
    "# 1. Anaconda prompt 로 접속한다.\n",
    "# 2. activate tensorflow 를 친다\n",
    "# 3. jupyter notebook 을 치면 창이 뜨면서 쥬피터노트북이 실행이 된다\n",
    "# 4. writer = tf.summary.FileWriter('./logs', sess.graph)      구문을 친다\n",
    "# 5. 새로운 Anaconda prompt 를 켠다\n",
    "# 6. activate tensorflow 를 친다\n",
    "# 7. tensorboard --logdir=C:\\MyPython\\20190409\\logs       log 폴더가 생긴 경로를 친다.\n",
    "# 8. 웹창에 http://localhost:6006 을 친다\n",
    "# 9. 텐서보드가 뜬다.\n",
    "\n",
    "\n",
    "# tensorboard --logdir=C:\\MyPython\\20190409\\logs\n",
    "# http://localhost:6006/\n",
    "\n",
    "import tensorflow as tf\n",
    "a = tf.constant(5.0)\n",
    "b = tf.constant(6.0)\n",
    "c = a * b\n",
    "sess = tf.Session()\n",
    "writer = tf.summary.FileWriter('./logs', sess.graph)    # python 경로에 logs 폴더가 생성된다.\n",
    "sess.run(c)"
   ]
  },
  {
   "cell_type": "code",
   "execution_count": null,
   "metadata": {},
   "outputs": [],
   "source": []
  },
  {
   "cell_type": "code",
   "execution_count": null,
   "metadata": {},
   "outputs": [],
   "source": []
  },
  {
   "cell_type": "code",
   "execution_count": null,
   "metadata": {},
   "outputs": [],
   "source": []
  },
  {
   "cell_type": "code",
   "execution_count": null,
   "metadata": {},
   "outputs": [],
   "source": []
  },
  {
   "cell_type": "code",
   "execution_count": null,
   "metadata": {},
   "outputs": [],
   "source": []
  },
  {
   "cell_type": "code",
   "execution_count": null,
   "metadata": {},
   "outputs": [],
   "source": []
  },
  {
   "cell_type": "code",
   "execution_count": null,
   "metadata": {},
   "outputs": [],
   "source": []
  },
  {
   "cell_type": "code",
   "execution_count": null,
   "metadata": {},
   "outputs": [],
   "source": []
  }
 ],
 "metadata": {
  "kernelspec": {
   "display_name": "Python 3",
   "language": "python",
   "name": "python3"
  },
  "language_info": {
   "codemirror_mode": {
    "name": "ipython",
    "version": 3
   },
   "file_extension": ".py",
   "mimetype": "text/x-python",
   "name": "python",
   "nbconvert_exporter": "python",
   "pygments_lexer": "ipython3",
   "version": "3.7.3"
  }
 },
 "nbformat": 4,
 "nbformat_minor": 2
}
