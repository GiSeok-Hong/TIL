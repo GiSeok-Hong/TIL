{
 "cells": [
  {
   "cell_type": "code",
   "execution_count": 1,
   "metadata": {},
   "outputs": [],
   "source": [
    "from sklearn import datasets\n",
    "from sklearn import metrics\n",
    "import pandas as pd\n",
    "import numpy as np\n",
    "import matplotlib.pyplot as plt"
   ]
  },
  {
   "cell_type": "code",
   "execution_count": 16,
   "metadata": {},
   "outputs": [
    {
     "data": {
      "text/html": [
       "<div>\n",
       "<style scoped>\n",
       "    .dataframe tbody tr th:only-of-type {\n",
       "        vertical-align: middle;\n",
       "    }\n",
       "\n",
       "    .dataframe tbody tr th {\n",
       "        vertical-align: top;\n",
       "    }\n",
       "\n",
       "    .dataframe thead th {\n",
       "        text-align: right;\n",
       "    }\n",
       "</style>\n",
       "<table border=\"1\" class=\"dataframe\">\n",
       "  <thead>\n",
       "    <tr style=\"text-align: right;\">\n",
       "      <th></th>\n",
       "      <th>x</th>\n",
       "      <th>y</th>\n",
       "    </tr>\n",
       "  </thead>\n",
       "  <tbody>\n",
       "    <tr>\n",
       "      <th>0</th>\n",
       "      <td>25</td>\n",
       "      <td>79</td>\n",
       "    </tr>\n",
       "  </tbody>\n",
       "</table>\n",
       "</div>"
      ],
      "text/plain": [
       "    x   y\n",
       "0  25  79"
      ]
     },
     "execution_count": 16,
     "metadata": {},
     "output_type": "execute_result"
    }
   ],
   "source": [
    "data = pd.read_csv(\"C:\\MyPython\\csv\\Sample01-k-means.csv\")\n",
    "#data = pd.read_csv(\"C:/MyPython/csv/Sample01-k-means.csv\")\n",
    "data.head(1)"
   ]
  },
  {
   "cell_type": "code",
   "execution_count": 3,
   "metadata": {},
   "outputs": [
    {
     "data": {
      "image/png": "[encoded data removed]",
      "text/plain": [
       "<Figure size 432x288 with 1 Axes>"
      ]
     },
     "metadata": {
      "needs_background": "light"
     },
     "output_type": "display_data"
    }
   ],
   "source": [
    "plt.scatter(data['x'], data['y'])\n",
    "plt.show()"
   ]
  },
  {
   "cell_type": "code",
   "execution_count": 4,
   "metadata": {},
   "outputs": [],
   "source": [
    "from sklearn.cluster import KMeans"
   ]
  },
  {
   "cell_type": "code",
   "execution_count": 7,
   "metadata": {},
   "outputs": [],
   "source": [
    "https://datascienceschool.net/view-notebook/2205ad8f0c5947c08696e8927b466341/\n",
    "    \n",
    "K-Means 클러스터링 알고리즘은 가장 단순하고 빠른 클러스터링 알고리즘의 하나이다.\n",
    "다음과 같은 목적함수 값이 최소화될 때까지 클러스터의 중심(centroid) 위치와\n",
    "각 데이터가 소속될 클러스터를 반복해서 찾는다. 이 값을 inertia라고도 한다.\n",
    "\n",
    "scikit-learn의 cluster 서브패키지는 KMeans 클러스터링을 위한 KMeans 클래스를 제공한다.\n",
    "다음과 같은 인수를 받을 수 있다.\n",
    "\n",
    "n_clusters: 클러스터의 갯수\n",
    "init: 초기화 방법. \"random\"이면 무작위, \"k-means++\"이면 K-Means++ 방법. 또는 각 데이터의 클러스터 라벨.\n",
    "n_init: 초기 중심값 시도 횟수. 디폴트는 10이고 10개의 무작위 중심값 목록 중 가장 좋은 값을 선택한다.\n",
    "max_iter: 최대 반복 횟수.\n",
    "random_state: 시드값.\n",
    "    \n",
    "k-means clustering\n",
    "각 반복에서 로컬 최대 값을 찾는 것을 목표로 하는 반복 클러스터링 알고리즘. 초기에 원하는 클러스터 수가 정의됨\n",
    "3개의 클래스가 있다는 것을 예상한다면 \"n_cluster\" 매개 변수로 kmeans 모델에 전달하여 데이터를 3개의 클래스로\n",
    "그룹화함. 그러면 임의로 세 점 (입력)이 세 클러스터에 할당됨. 각 점들 사이의 중심 거리에 기초하여 클러스터로 분리됨\n"
   ]
  },
  {
   "cell_type": "code",
   "execution_count": 5,
   "metadata": {},
   "outputs": [],
   "source": [
    "kmeans = KMeans(n_clusters=3).fit(data)      # clusters 분류를 3개로 한다.\n",
    "centroids = kmeans.cluster_centers_"
   ]
  },
  {
   "cell_type": "code",
   "execution_count": 6,
   "metadata": {},
   "outputs": [
    {
     "data": {
      "text/plain": [
       "array([[29.6, 66.8],\n",
       "       [55.1, 46.1],\n",
       "       [43.2, 16.7]])"
      ]
     },
     "execution_count": 6,
     "metadata": {},
     "output_type": "execute_result"
    }
   ],
   "source": [
    "centroids    # cluster의 중심이 되는 좌표가 나온다.   위에서 3개로 지정했기 때문에 3개가 나온다."
   ]
  },
  {
   "cell_type": "code",
   "execution_count": 7,
   "metadata": {},
   "outputs": [
    {
     "data": {
      "image/png": "[encoded data removed]",
      "text/plain": [
       "<Figure size 432x288 with 1 Axes>"
      ]
     },
     "metadata": {
      "needs_background": "light"
     },
     "output_type": "display_data"
    }
   ],
   "source": [
    "plt.scatter(data['x'], data['y'], c=kmeans.labels_.astype(float), s = 50, alpha = 0.5) \n",
    "# s 는 점의 크기, alpha 는 색 진하기\n",
    "plt.scatter(centroids[:,0], centroids[:,1], c = 'red', s = 50)    # 빨간점은 중간\n",
    "plt.show()"
   ]
  },
  {
   "cell_type": "code",
   "execution_count": null,
   "metadata": {},
   "outputs": [],
   "source": []
  },
  {
   "cell_type": "code",
   "execution_count": 8,
   "metadata": {},
   "outputs": [
    {
     "data": {
      "text/plain": [
       "(pandas.core.series.Series, pandas.core.series.Series)"
      ]
     },
     "execution_count": 8,
     "metadata": {},
     "output_type": "execute_result"
    }
   ],
   "source": [
    "x = data['x']\n",
    "y = data['y']\n",
    "type(x), type(y) # (pandas.core.series.Series, pandas.core.series.Series)"
   ]
  },
  {
   "cell_type": "code",
   "execution_count": 12,
   "metadata": {},
   "outputs": [
    {
     "name": "stdout",
     "output_type": "stream",
     "text": [
      "[(25, 79), (34, 51), (22, 53), (27, 78), (33, 59), (33, 74), (31, 73), (22, 57), (35, 69), (34, 75), (67, 51), (54, 32), (57, 40), (43, 47), (50, 53), (57, 36), (59, 35), (52, 58), (65, 59), (47, 50), (49, 25), (48, 20), (35, 14), (33, 12), (44, 20), (45, 5), (38, 29), (43, 27), (51, 8), (46, 7)]\n",
      "<class 'numpy.ndarray'>\n",
      "[[25 79]\n",
      " [34 51]\n",
      " [22 53]\n",
      " [27 78]\n",
      " [33 59]\n",
      " [33 74]\n",
      " [31 73]\n",
      " [22 57]\n",
      " [35 69]\n",
      " [34 75]\n",
      " [67 51]\n",
      " [54 32]\n",
      " [57 40]\n",
      " [43 47]\n",
      " [50 53]\n",
      " [57 36]\n",
      " [59 35]\n",
      " [52 58]\n",
      " [65 59]\n",
      " [47 50]\n",
      " [49 25]\n",
      " [48 20]\n",
      " [35 14]\n",
      " [33 12]\n",
      " [44 20]\n",
      " [45  5]\n",
      " [38 29]\n",
      " [43 27]\n",
      " [51  8]\n",
      " [46  7]]\n"
     ]
    },
    {
     "data": {
      "text/plain": [
       "30"
      ]
     },
     "execution_count": 12,
     "metadata": {},
     "output_type": "execute_result"
    }
   ],
   "source": [
    "# zip 함수는 보통 List여러개로 를 slice 할때 사용을 합니다.\n",
    "# 보통 우리가 김밥을 말때, 여러가지 재료를 묶습니다.\n",
    "# 그리고 김밥을 자르죠,, 이것과 개념이 비슷합니다.\n",
    "# 여러가지 List를 김밥말듯이 말아버립니다.\n",
    "# 그리고 iterator 등의 함수로 slice를 하는 것이죠,\n",
    "# 김밥 슬라이스 자르듯이 자르게 됩니다.\n",
    "# zip 함수는 보다보면 사용할때가 은근 많습니다.\n",
    "# 여럿의 리스트를 짝지어주는 역할인거죠\n",
    "\n",
    "x1 = x.values\n",
    "y1 = y.values\n",
    "checked = list(zip(x1, y1))\n",
    "print(checked)\n",
    "type(checked)    # list\n",
    "\n",
    "data2 = np.array(checked).reshape(len(x1),2)\n",
    "print(type(data2))   # <class 'numpy.ndarray'>\n",
    "print(data2)\n",
    "data3 = []\n",
    "len(data2)   # 30"
   ]
  },
  {
   "cell_type": "code",
   "execution_count": 13,
   "metadata": {},
   "outputs": [
    {
     "name": "stdout",
     "output_type": "stream",
     "text": [
      "23.693201938148384\n",
      "14.455398125748394\n",
      "10.574911476191717\n",
      "8.763082712451988\n",
      "7.4850203876301915\n",
      "6.060632821706659\n",
      "5.120189656566015\n",
      "4.261941024585835\n",
      "3.7908030797645904\n",
      "3.3167447871610625\n",
      "2.953335451789376\n",
      "2.674364068100758\n",
      "2.3718325822731594\n",
      "2.1307484347829617\n",
      "1.9656102922693803\n",
      "1.7225011269239399\n",
      "1.5854318679852855\n",
      "1.4149695522592496\n",
      "1.1850250655614312\n",
      "1.0055195719902812\n",
      "0.8574307458659983\n",
      "0.7160093896286885\n",
      "0.5826760562953555\n",
      "0.44934272296202216\n",
      "0.3650281539872885\n",
      "0.27074724982908216\n",
      "0.19621165057908915\n",
      "0.12167605132909616\n",
      "0.047140452079103175\n",
      "0.0\n"
     ]
    }
   ],
   "source": [
    "from scipy.spatial.distance import cdist\n",
    "\n",
    "# 몇 개로 분류해야 가장 적합한지 구하는 알고리즘\n",
    "\n",
    "K = range(1,31)\n",
    "for k in K:\n",
    "    kmeanModel = KMeans(n_clusters = k).fit(data2)\n",
    "    #print(kmeanModel)\n",
    "    d = cdist(data2, kmeanModel.cluster_centers_, 'euclidean')\n",
    "    d2 = sum(np.min(d, axis = 1)) / data2.shape[0]\n",
    "    # d2의 의미는 k-평균 알고리즘(elbow)\n",
    "    data3.append(d2)\n",
    "    print(d2)\n",
    "# 10.574911476191717"
   ]
  },
  {
   "cell_type": "code",
   "execution_count": 14,
   "metadata": {},
   "outputs": [
    {
     "data": {
      "image/png": "[encoded data removed]",
      "text/plain": [
       "<Figure size 432x288 with 1 Axes>"
      ]
     },
     "metadata": {
      "needs_background": "light"
     },
     "output_type": "display_data"
    }
   ],
   "source": [
    "plt.plot(K, data3, 'bx-')\n",
    "plt.show()"
   ]
  },
  {
   "cell_type": "code",
   "execution_count": null,
   "metadata": {},
   "outputs": [],
   "source": [
    "#\n",
    "\n",
    "from scipy.spatial.distance import cdist\n",
    "def testFunc(x, y):\n",
    "    x1 = x\n",
    "    y1 = y\n",
    "    data2 = np.array(list(zip(x1, y1))).reshape(len(x1),2)\n",
    "    data3 = []\n",
    "    K = range(1,10)\n",
    "    for k in K:\n",
    "        kmeanModel = KMeans(n_clusters=k).fit(data2)\n",
    "        kmeanModel.fit(data2)\n",
    "        d = cdist(data2, kmeanModel.cluster_centers_, 'euclidean') #\n",
    "        d2 = sum(np.min(d, axis=1)) / data2.shape[0] #\n",
    "        data3.append(d2)\n",
    "    \n",
    "    return data3"
   ]
  },
  {
   "cell_type": "code",
   "execution_count": null,
   "metadata": {},
   "outputs": [],
   "source": []
  },
  {
   "cell_type": "code",
   "execution_count": null,
   "metadata": {},
   "outputs": [],
   "source": []
  },
  {
   "cell_type": "code",
   "execution_count": null,
   "metadata": {},
   "outputs": [],
   "source": []
  },
  {
   "cell_type": "code",
   "execution_count": null,
   "metadata": {},
   "outputs": [],
   "source": []
  },
  {
   "cell_type": "code",
   "execution_count": null,
   "metadata": {},
   "outputs": [],
   "source": []
  }
 ],
 "metadata": {
  "kernelspec": {
   "display_name": "Python 3",
   "language": "python",
   "name": "python3"
  },
  "language_info": {
   "codemirror_mode": {
    "name": "ipython",
    "version": 3
   },
   "file_extension": ".py",
   "mimetype": "text/x-python",
   "name": "python",
   "nbconvert_exporter": "python",
   "pygments_lexer": "ipython3",
   "version": "3.7.1"
  }
 },
 "nbformat": 4,
 "nbformat_minor": 2
}
