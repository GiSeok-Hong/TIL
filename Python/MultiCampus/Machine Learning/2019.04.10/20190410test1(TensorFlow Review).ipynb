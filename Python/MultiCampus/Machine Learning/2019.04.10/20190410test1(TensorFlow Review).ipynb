{
 "cells": [
  {
   "cell_type": "code",
   "execution_count": 3,
   "metadata": {},
   "outputs": [
    {
     "data": {
      "text/plain": [
       "'1.13.1'"
      ]
     },
     "execution_count": 3,
     "metadata": {},
     "output_type": "execute_result"
    }
   ],
   "source": [
    "import tensorflow as tf\n",
    "tf.__version__"
   ]
  },
  {
   "cell_type": "code",
   "execution_count": 4,
   "metadata": {},
   "outputs": [],
   "source": [
    "hello = tf.constant(\"Hello, TensorFlow!\")"
   ]
  },
  {
   "cell_type": "code",
   "execution_count": 5,
   "metadata": {},
   "outputs": [],
   "source": [
    "sess = tf.Session()"
   ]
  },
  {
   "cell_type": "code",
   "execution_count": 6,
   "metadata": {},
   "outputs": [
    {
     "name": "stdout",
     "output_type": "stream",
     "text": [
      "b'Hello, TensorFlow!'\n"
     ]
    }
   ],
   "source": [
    "print(sess.run(hello))        # b'Hello, TensorFlow!'"
   ]
  },
  {
   "cell_type": "code",
   "execution_count": 7,
   "metadata": {},
   "outputs": [
    {
     "data": {
      "text/plain": [
       "[[[1, 2, 3]], [[4, 5, 6]]]"
      ]
     },
     "execution_count": 7,
     "metadata": {},
     "output_type": "execute_result"
    }
   ],
   "source": [
    "# Tensors\n",
    "3  # rank 0\n",
    "[1,2,3]  # rank 1\n",
    "[[1,2,3], [4,5,6]]  # rank 2\n",
    "[[[1,2,3,]], [[4,5,6]]]  # rank 3"
   ]
  },
  {
   "cell_type": "code",
   "execution_count": 8,
   "metadata": {},
   "outputs": [
    {
     "data": {
      "text/plain": [
       "<tf.Tensor 'Add:0' shape=() dtype=float32>"
      ]
     },
     "execution_count": 8,
     "metadata": {},
     "output_type": "execute_result"
    }
   ],
   "source": [
    "# Computational Graph\n",
    "node1 = tf.constant(3.0, tf.float32)\n",
    "node2 = tf.constant(5.0, tf.float32)\n",
    "node3 = tf.add(node1, node2)\n",
    "node3   # <tf.Tensor 'Add:0' shape=() dtype=float32>"
   ]
  },
  {
   "cell_type": "code",
   "execution_count": 9,
   "metadata": {},
   "outputs": [],
   "source": [
    "# writer = tf.summary.FileWriter('.logs', sess.graph)\n",
    "# tensorboard --logdir=c:\\"
   ]
  },
  {
   "cell_type": "code",
   "execution_count": 10,
   "metadata": {},
   "outputs": [
    {
     "data": {
      "text/plain": [
       "8.0"
      ]
     },
     "execution_count": 10,
     "metadata": {},
     "output_type": "execute_result"
    }
   ],
   "source": [
    "sess.run(node3)         # 8.0"
   ]
  },
  {
   "cell_type": "code",
   "execution_count": 13,
   "metadata": {},
   "outputs": [
    {
     "data": {
      "text/plain": [
       "array([8., 6.], dtype=float32)"
      ]
     },
     "execution_count": 13,
     "metadata": {},
     "output_type": "execute_result"
    }
   ],
   "source": [
    "# placeholder 자료형은 조금 특이하다.\n",
    "# 선언과 동시에 초기화 하는 것이 아니라 일단 선언 후 그 다음 값을 전달한다.\n",
    "# 따라서 반드시 실행 시 데이터가 제공되어야 한다. \n",
    "# 여기서 값을 전달한다고 되어 있는데\n",
    "# 이는 데이터를 상수값을 전달함과 같이 할당하는 것이 아니라\n",
    "# 다른 텐서(Tensor)를 placeholder에 맵핑 시키는 것이라고 보면 된다.\n",
    "\n",
    "# placeholder의 전달 파라미터는 다음과 같다.\n",
    "\n",
    "# placeholder(\n",
    "#     dtype,\n",
    "#     shape=None,\n",
    "#     name=None\n",
    "# )\n",
    "# dtype : 데이터 타입을 의미하며 반드시 적어주어야 한다.\n",
    "# shape : 입력 데이터의 형태를 의미한다. 상수 값이 될 수도 있고 다차원 배열의 정보가 들어올 수도 있다.\n",
    "# ( 디폴트 파라미터로 None 지정 )\n",
    "# name : 해당 placeholder의 이름을 부여하는 것으로 적지 않아도 된다.  ( 디폴트 파라미터로 None 지정 )\n",
    "\n",
    "#p_holder1 = tf.placeholder(dtype=tf.float32)\n",
    "#p_holder2 = tf.placeholder(dtype=tf.float32)\n",
    "#p_holder3 = tf.placeholder(dtype=tf.float32)\n",
    " \n",
    "#val1 = 5\n",
    "#val2 = 10\n",
    "#val3 = 3\n",
    " \n",
    "#ret_val = p_holder1 * p_holder2 + p_holder3\n",
    " \n",
    "#feed_dict = {p_holder1: val1, p_holder2: val2, p_holder3: val3}\n",
    "#result = sess.run(ret_val, feed_dict=feed_dict)\n",
    " \n",
    "#print(result)\n",
    "\n",
    "# placeholder는 다른 텐서를 할당하는 것이라고 했다.\n",
    "# 이를 할당하기 위해서는 feed dictionary 라는 것을 활용하게 되는데\n",
    "# 세션을 생성할때 feed_dict의 키워드 형태로 텐서를 맵핑 할 수 있다.\n",
    "# 위와 같이 선언 후 feed_dict 변수를 할당해도 되고 바로 값을 대입시켜도 무방하다.\n"
   ]
  },
  {
   "cell_type": "code",
   "execution_count": 14,
   "metadata": {},
   "outputs": [
    {
     "data": {
      "text/plain": [
       "array([8., 6.], dtype=float32)"
      ]
     },
     "execution_count": 14,
     "metadata": {},
     "output_type": "execute_result"
    }
   ],
   "source": [
    "\n",
    "a1 = tf.placeholder(tf.float32)\n",
    "b1 = tf.placeholder(tf.float32)\n",
    "adder_node = a1 + b1\n",
    "sess.run(adder_node, feed_dict = {a1:3, b1:5})                    # 8.0\n",
    "sess.run(adder_node, feed_dict = {a1:[3,2] , b1:[5,4]})          # array([8., 6.], dtype=float32)"
   ]
  },
  {
   "cell_type": "code",
   "execution_count": 16,
   "metadata": {},
   "outputs": [],
   "source": [
    "addTest = adder_node * 3"
   ]
  },
  {
   "cell_type": "code",
   "execution_count": 17,
   "metadata": {},
   "outputs": [
    {
     "data": {
      "text/plain": [
       "27.0"
      ]
     },
     "execution_count": 17,
     "metadata": {},
     "output_type": "execute_result"
    }
   ],
   "source": [
    "sess.run(addTest, feed_dict= {a1:4, b1:5})    # 27.0"
   ]
  },
  {
   "cell_type": "code",
   "execution_count": 19,
   "metadata": {},
   "outputs": [],
   "source": [
    "writer = tf.summary.FileWriter('.logs', sess.graph)"
   ]
  },
  {
   "cell_type": "code",
   "execution_count": null,
   "metadata": {},
   "outputs": [],
   "source": []
  }
 ],
 "metadata": {
  "kernelspec": {
   "display_name": "Python 3",
   "language": "python",
   "name": "python3"
  },
  "language_info": {
   "codemirror_mode": {
    "name": "ipython",
    "version": 3
   },
   "file_extension": ".py",
   "mimetype": "text/x-python",
   "name": "python",
   "nbconvert_exporter": "python",
   "pygments_lexer": "ipython3",
   "version": "3.7.3"
  }
 },
 "nbformat": 4,
 "nbformat_minor": 2
}
