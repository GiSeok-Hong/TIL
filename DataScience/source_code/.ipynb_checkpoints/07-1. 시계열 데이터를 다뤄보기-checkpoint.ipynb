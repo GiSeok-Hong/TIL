{
 "cells": [
  {
   "cell_type": "markdown",
   "metadata": {},
   "source": [
    "# 파이썬으로 데이터 주무르기\n",
    "\n",
    "## 7. 시계열 데이터를 다뤄보자\n",
    "\n",
    "* 시계열(Time Series)분석이라는 것은 통계적으로 어렵고 복잡한 작업입니다. 원 데이터의 안정성(stationary)을 판정하고, 안정한 형태로 변환하고, 예측 모델을 선정하고 검증하는 과정이 통계학의 깊은 지식을 요구합니다.\n",
    "* Fbprophet 모델을 사용하여 시계열 예측을 해보기"
   ]
  },
  {
   "cell_type": "code",
   "execution_count": 2,
   "metadata": {},
   "outputs": [
    {
     "name": "stdout",
     "output_type": "stream",
     "text": [
      "Collecting pystan\n",
      "  Downloading https://files.pythonhosted.org/packages/d2/88/2411ad496304673559a0dbb32b8ecd83c1fbc52cf83d9e1cca2ed66cbba6/pystan-2.19.0.0-cp37-cp37m-win_amd64.whl (79.7MB)\n",
      "Requirement already satisfied: numpy>=1.7 in c:\\users\\user\\anaconda3\\lib\\site-packages (from pystan) (1.16.2)\n",
      "Requirement already satisfied: Cython!=0.25.1,>=0.22 in c:\\users\\user\\anaconda3\\lib\\site-packages (from pystan) (0.29.6)\n",
      "Installing collected packages: pystan\n",
      "Successfully installed pystan-2.19.0.0\n",
      "Collecting prophet\n",
      "  Downloading https://files.pythonhosted.org/packages/1b/1c/61c969e76119a8257220869a6b3b57cd2ad4fbe0fd69b9b6845bfcf135aa/prophet-0.1.1.tar.gz\n",
      "Requirement already satisfied: pytz>=2014.9 in c:\\users\\user\\anaconda3\\lib\\site-packages (from prophet) (2018.9)\n",
      "Requirement already satisfied: pandas>=0.15.1 in c:\\users\\user\\anaconda3\\lib\\site-packages (from prophet) (0.24.2)\n",
      "Requirement already satisfied: six>=1.8.0 in c:\\users\\user\\anaconda3\\lib\\site-packages (from prophet) (1.12.0)\n",
      "Requirement already satisfied: numpy>=1.12.0 in c:\\users\\user\\anaconda3\\lib\\site-packages (from pandas>=0.15.1->prophet) (1.16.2)\n",
      "Requirement already satisfied: python-dateutil>=2.5.0 in c:\\users\\user\\anaconda3\\lib\\site-packages (from pandas>=0.15.1->prophet) (2.8.0)\n",
      "Building wheels for collected packages: prophet\n",
      "  Building wheel for prophet (setup.py): started\n",
      "  Building wheel for prophet (setup.py): finished with status 'done'\n",
      "  Stored in directory: C:\\Users\\user\\AppData\\Local\\pip\\Cache\\wheels\\77\\3e\\f3\\1c536bf1f871f818686e7fbf31cab18d52787a72dea8640756\n",
      "Successfully built prophet\n",
      "Installing collected packages: prophet\n",
      "Successfully installed prophet-0.1.1\n"
     ]
    }
   ],
   "source": [
    "# !pip install pystan\n",
    "# !pip install prophet"
   ]
  },
  {
   "cell_type": "markdown",
   "metadata": {},
   "source": [
    "### 7-1. Numpy의 polyfit으로 회귀(regression) 분석하기   267p"
   ]
  },
  {
   "cell_type": "code",
   "execution_count": 1,
   "metadata": {},
   "outputs": [
    {
     "name": "stdout",
     "output_type": "stream",
     "text": [
      "Collecting pandas_datareader\n",
      "  Downloading https://files.pythonhosted.org/packages/d1/db/c6c72242179251ed9ead7af852296ae9558b1d0cfd972eef6c3398b131d1/pandas_datareader-0.7.4-py2.py3-none-any.whl (113kB)\n",
      "Requirement already satisfied: wrapt in c:\\users\\user\\anaconda3\\lib\\site-packages (from pandas_datareader) (1.11.1)\n",
      "Requirement already satisfied: pandas>=0.19.2 in c:\\users\\user\\anaconda3\\lib\\site-packages (from pandas_datareader) (0.24.2)\n",
      "Requirement already satisfied: lxml in c:\\users\\user\\anaconda3\\lib\\site-packages (from pandas_datareader) (4.3.2)\n",
      "Requirement already satisfied: requests>=2.3.0 in c:\\users\\user\\anaconda3\\lib\\site-packages (from pandas_datareader) (2.21.0)\n",
      "Requirement already satisfied: python-dateutil>=2.5.0 in c:\\users\\user\\anaconda3\\lib\\site-packages (from pandas>=0.19.2->pandas_datareader) (2.8.0)\n",
      "Requirement already satisfied: numpy>=1.12.0 in c:\\users\\user\\anaconda3\\lib\\site-packages (from pandas>=0.19.2->pandas_datareader) (1.16.2)\n",
      "Requirement already satisfied: pytz>=2011k in c:\\users\\user\\anaconda3\\lib\\site-packages (from pandas>=0.19.2->pandas_datareader) (2018.9)\n",
      "Requirement already satisfied: urllib3<1.25,>=1.21.1 in c:\\users\\user\\anaconda3\\lib\\site-packages (from requests>=2.3.0->pandas_datareader) (1.24.1)\n",
      "Requirement already satisfied: certifi>=2017.4.17 in c:\\users\\user\\anaconda3\\lib\\site-packages (from requests>=2.3.0->pandas_datareader) (2019.3.9)\n",
      "Requirement already satisfied: chardet<3.1.0,>=3.0.2 in c:\\users\\user\\anaconda3\\lib\\site-packages (from requests>=2.3.0->pandas_datareader) (3.0.4)\n",
      "Requirement already satisfied: idna<2.9,>=2.5 in c:\\users\\user\\anaconda3\\lib\\site-packages (from requests>=2.3.0->pandas_datareader) (2.8)\n",
      "Requirement already satisfied: six>=1.5 in c:\\users\\user\\anaconda3\\lib\\site-packages (from python-dateutil>=2.5.0->pandas>=0.19.2->pandas_datareader) (1.12.0)\n",
      "Installing collected packages: pandas-datareader\n",
      "Successfully installed pandas-datareader-0.7.4\n"
     ]
    }
   ],
   "source": [
    "# !pip install pandas_datareader"
   ]
  },
  {
   "cell_type": "code",
   "execution_count": 6,
   "metadata": {
    "scrolled": false
   },
   "outputs": [
    {
     "name": "stdout",
     "output_type": "stream",
     "text": [
      "Collecting fbprophet\n",
      "  Downloading https://files.pythonhosted.org/packages/33/fb/ad98d46773929079657706e6b2b6e366ba6c282bc2397d8f9b0ea8e5614c/fbprophet-0.5.tar.gz (49kB)\n",
      "Requirement already satisfied: Cython>=0.22 in c:\\users\\user\\anaconda3\\lib\\site-packages (from fbprophet) (0.29.6)\n",
      "Requirement already satisfied: pystan>=2.14 in c:\\users\\user\\anaconda3\\lib\\site-packages (from fbprophet) (2.19.0.0)\n",
      "Requirement already satisfied: numpy>=1.10.0 in c:\\users\\user\\anaconda3\\lib\\site-packages (from fbprophet) (1.16.2)\n",
      "Requirement already satisfied: pandas>=0.23.4 in c:\\users\\user\\anaconda3\\lib\\site-packages (from fbprophet) (0.24.2)\n",
      "Requirement already satisfied: matplotlib>=2.0.0 in c:\\users\\user\\anaconda3\\lib\\site-packages (from fbprophet) (3.0.3)\n",
      "Collecting lunardate>=0.1.5 (from fbprophet)\n",
      "  Downloading https://files.pythonhosted.org/packages/4e/7e/377a3cbba646ec0cf79433ef858881d809a3b87eb887b0901cb83c66a758/lunardate-0.2.0-py3-none-any.whl\n",
      "Collecting convertdate>=2.1.2 (from fbprophet)\n",
      "  Downloading https://files.pythonhosted.org/packages/74/83/d0fa07078f4d4ae473a89d7d521aafc66d82641ea0af0ef04a47052e8f17/convertdate-2.1.3-py2.py3-none-any.whl\n",
      "Collecting holidays>=0.9.5 (from fbprophet)\n",
      "  Downloading https://files.pythonhosted.org/packages/d0/17/a452275a0b3e811a381137ff6a61649086af4c5bf2a25755f518cc64b39e/holidays-0.9.11.tar.gz (81kB)\n",
      "Collecting setuptools-git>=1.2 (from fbprophet)\n",
      "  Downloading https://files.pythonhosted.org/packages/05/97/dd99fa9c0d9627a7b3c103a00f1566d8193aca8d473884ed258cca82b06f/setuptools_git-1.2-py2.py3-none-any.whl\n",
      "Requirement already satisfied: python-dateutil>=2.5.0 in c:\\users\\user\\anaconda3\\lib\\site-packages (from pandas>=0.23.4->fbprophet) (2.8.0)\n",
      "Requirement already satisfied: pytz>=2011k in c:\\users\\user\\anaconda3\\lib\\site-packages (from pandas>=0.23.4->fbprophet) (2018.9)\n",
      "Requirement already satisfied: cycler>=0.10 in c:\\users\\user\\anaconda3\\lib\\site-packages (from matplotlib>=2.0.0->fbprophet) (0.10.0)\n",
      "Requirement already satisfied: kiwisolver>=1.0.1 in c:\\users\\user\\anaconda3\\lib\\site-packages (from matplotlib>=2.0.0->fbprophet) (1.0.1)\n",
      "Requirement already satisfied: pyparsing!=2.0.4,!=2.1.2,!=2.1.6,>=2.0.1 in c:\\users\\user\\anaconda3\\lib\\site-packages (from matplotlib>=2.0.0->fbprophet) (2.3.1)\n",
      "Collecting ephem<3.8,>=3.7.5.3 (from convertdate>=2.1.2->fbprophet)\n",
      "  Downloading https://files.pythonhosted.org/packages/c3/2c/9e1a815add6c222a0d4bf7c644e095471a934a39bc90c201f9550a8f7f14/ephem-3.7.6.0.tar.gz (739kB)\n",
      "Requirement already satisfied: six in c:\\users\\user\\anaconda3\\lib\\site-packages (from holidays>=0.9.5->fbprophet) (1.12.0)\n",
      "Requirement already satisfied: setuptools in c:\\users\\user\\anaconda3\\lib\\site-packages (from kiwisolver>=1.0.1->matplotlib>=2.0.0->fbprophet) (40.8.0)\n",
      "Building wheels for collected packages: fbprophet, holidays, ephem\n",
      "  Building wheel for fbprophet (setup.py): started\n",
      "  Building wheel for fbprophet (setup.py): finished with status 'error'\n",
      "  Complete output from command C:\\Users\\user\\Anaconda3\\python.exe -u -c \"import setuptools, tokenize;__file__='C:\\\\Users\\\\user\\\\AppData\\\\Local\\\\Temp\\\\pip-install-gvhr1h68\\\\fbprophet\\\\setup.py';f=getattr(tokenize, 'open', open)(__file__);code=f.read().replace('\\r\\n', '\\n');f.close();exec(compile(code, __file__, 'exec'))\" bdist_wheel -d C:\\Users\\user\\AppData\\Local\\Temp\\pip-wheel-sw9mqlf_ --python-tag cp37:\n",
      "  running bdist_wheel\n",
      "  running build\n",
      "  running build_py\n",
      "  creating build\n",
      "  creating build\\lib\n",
      "  creating build\\lib\\fbprophet\n",
      "  creating build\\lib\\fbprophet\\stan_model\n",
      "  INFO:pystan:COMPILING THE C++ CODE FOR MODEL anon_model_db8febf10f23d7fa27a62fbcfd7f17b2 NOW.\n",
      "  WARNING:pystan:MSVC compiler is not supported\n",
      "  error: Microsoft Visual C++ 14.0 is required. Get it with \"Microsoft Visual C++ Build Tools\": https://visualstudio.microsoft.com/downloads/\n",
      "  \n",
      "  ----------------------------------------\n",
      "  Running setup.py clean for fbprophet\n",
      "  Building wheel for holidays (setup.py): started\n",
      "  Building wheel for holidays (setup.py): finished with status 'done'\n",
      "  Stored in directory: C:\\Users\\user\\AppData\\Local\\pip\\Cache\\wheels\\40\\a9\\2b\\94ac5464363d37564a87dc93a9d21a5850aac14a4608197003\n",
      "  Building wheel for ephem (setup.py): started\n",
      "  Building wheel for ephem (setup.py): finished with status 'error'\n",
      "  Complete output from command C:\\Users\\user\\Anaconda3\\python.exe -u -c \"import setuptools, tokenize;__file__='C:\\\\Users\\\\user\\\\AppData\\\\Local\\\\Temp\\\\pip-install-gvhr1h68\\\\ephem\\\\setup.py';f=getattr(tokenize, 'open', open)(__file__);code=f.read().replace('\\r\\n', '\\n');f.close();exec(compile(code, __file__, 'exec'))\" bdist_wheel -d C:\\Users\\user\\AppData\\Local\\Temp\\pip-wheel-4ov8ncpb --python-tag cp37:\n",
      "  running bdist_wheel\n",
      "  running build\n",
      "  running build_py\n",
      "  creating build\n",
      "  creating build\\lib.win-amd64-3.7\n",
      "  creating build\\lib.win-amd64-3.7\\ephem\n",
      "  copying ephem\\cities.py -> build\\lib.win-amd64-3.7\\ephem\n",
      "  copying ephem\\stars.py -> build\\lib.win-amd64-3.7\\ephem\n",
      "  copying ephem\\__init__.py -> build\\lib.win-amd64-3.7\\ephem\n",
      "  creating build\\lib.win-amd64-3.7\\ephem\\tests\n",
      "  copying ephem\\tests\\test_angles.py -> build\\lib.win-amd64-3.7\\ephem\\tests\n",
      "  copying ephem\\tests\\test_bodies.py -> build\\lib.win-amd64-3.7\\ephem\\tests\n",
      "  copying ephem\\tests\\test_cities.py -> build\\lib.win-amd64-3.7\\ephem\\tests\n",
      "  copying ephem\\tests\\test_constants.py -> build\\lib.win-amd64-3.7\\ephem\\tests\n",
      "  copying ephem\\tests\\test_dates.py -> build\\lib.win-amd64-3.7\\ephem\\tests\n",
      "  copying ephem\\tests\\test_github_issues.py -> build\\lib.win-amd64-3.7\\ephem\\tests\n",
      "  copying ephem\\tests\\test_jpl.py -> build\\lib.win-amd64-3.7\\ephem\\tests\n",
      "  copying ephem\\tests\\test_launchpad_236872.py -> build\\lib.win-amd64-3.7\\ephem\\tests\n",
      "  copying ephem\\tests\\test_launchpad_244811.py -> build\\lib.win-amd64-3.7\\ephem\\tests\n",
      "  copying ephem\\tests\\test_locales.py -> build\\lib.win-amd64-3.7\\ephem\\tests\n",
      "  copying ephem\\tests\\test_observers.py -> build\\lib.win-amd64-3.7\\ephem\\tests\n",
      "  copying ephem\\tests\\test_rst.py -> build\\lib.win-amd64-3.7\\ephem\\tests\n",
      "  copying ephem\\tests\\test_satellite.py -> build\\lib.win-amd64-3.7\\ephem\\tests\n",
      "  copying ephem\\tests\\test_stars.py -> build\\lib.win-amd64-3.7\\ephem\\tests\n",
      "  copying ephem\\tests\\test_usno.py -> build\\lib.win-amd64-3.7\\ephem\\tests\n",
      "  copying ephem\\tests\\test_usno_equinoxes.py -> build\\lib.win-amd64-3.7\\ephem\\tests\n",
      "  copying ephem\\tests\\__init__.py -> build\\lib.win-amd64-3.7\\ephem\\tests\n",
      "  creating build\\lib.win-amd64-3.7\\ephem\\doc\n",
      "  copying ephem\\doc\\angle.rst -> build\\lib.win-amd64-3.7\\ephem\\doc\n",
      "  copying ephem\\doc\\catalogs.rst -> build\\lib.win-amd64-3.7\\ephem\\doc\n",
      "  copying ephem\\doc\\CHANGELOG.rst -> build\\lib.win-amd64-3.7\\ephem\\doc\n",
      "  copying ephem\\doc\\coordinates.rst -> build\\lib.win-amd64-3.7\\ephem\\doc\n",
      "  copying ephem\\doc\\date.rst -> build\\lib.win-amd64-3.7\\ephem\\doc\n",
      "  copying ephem\\doc\\examples.rst -> build\\lib.win-amd64-3.7\\ephem\\doc\n",
      "  copying ephem\\doc\\faq.rst -> build\\lib.win-amd64-3.7\\ephem\\doc\n",
      "  copying ephem\\doc\\index.rst -> build\\lib.win-amd64-3.7\\ephem\\doc\n",
      "  copying ephem\\doc\\newton.rst -> build\\lib.win-amd64-3.7\\ephem\\doc\n",
      "  copying ephem\\doc\\quick.rst -> build\\lib.win-amd64-3.7\\ephem\\doc\n",
      "  copying ephem\\doc\\radec.rst -> build\\lib.win-amd64-3.7\\ephem\\doc\n",
      "  copying ephem\\doc\\reference.rst -> build\\lib.win-amd64-3.7\\ephem\\doc\n",
      "  copying ephem\\doc\\rise-set.rst -> build\\lib.win-amd64-3.7\\ephem\\doc\n",
      "  copying ephem\\doc\\tutorial.rst -> build\\lib.win-amd64-3.7\\ephem\\doc\n",
      "  creating build\\lib.win-amd64-3.7\\ephem\\tests\\jpl\n",
      "  copying ephem\\tests\\jpl\\europa.txt -> build\\lib.win-amd64-3.7\\ephem\\tests\\jpl\n",
      "  copying ephem\\tests\\jpl\\hyperion.txt -> build\\lib.win-amd64-3.7\\ephem\\tests\\jpl\n",
      "  copying ephem\\tests\\jpl\\jupiter.txt -> build\\lib.win-amd64-3.7\\ephem\\tests\\jpl\n",
      "  copying ephem\\tests\\jpl\\mars.txt -> build\\lib.win-amd64-3.7\\ephem\\tests\\jpl\n",
      "  copying ephem\\tests\\jpl\\neptune.txt -> build\\lib.win-amd64-3.7\\ephem\\tests\\jpl\n",
      "  copying ephem\\tests\\jpl\\oberon.txt -> build\\lib.win-amd64-3.7\\ephem\\tests\\jpl\n",
      "  copying ephem\\tests\\jpl\\phobos.txt -> build\\lib.win-amd64-3.7\\ephem\\tests\\jpl\n",
      "  copying ephem\\tests\\jpl\\saturn.txt -> build\\lib.win-amd64-3.7\\ephem\\tests\\jpl\n",
      "  copying ephem\\tests\\jpl\\uranus.txt -> build\\lib.win-amd64-3.7\\ephem\\tests\\jpl\n",
      "  creating build\\lib.win-amd64-3.7\\ephem\\tests\\usno\n",
      "  copying ephem\\tests\\usno\\appgeo_deneb.txt -> build\\lib.win-amd64-3.7\\ephem\\tests\\usno\n",
      "  copying ephem\\tests\\usno\\appgeo_jupiter.txt -> build\\lib.win-amd64-3.7\\ephem\\tests\\usno\n",
      "  copying ephem\\tests\\usno\\appgeo_moon.txt -> build\\lib.win-amd64-3.7\\ephem\\tests\\usno\n",
      "  copying ephem\\tests\\usno\\appgeo_sun.txt -> build\\lib.win-amd64-3.7\\ephem\\tests\\usno\n",
      "  copying ephem\\tests\\usno\\apptopo_deneb.txt -> build\\lib.win-amd64-3.7\\ephem\\tests\\usno\n",
      "  copying ephem\\tests\\usno\\apptopo_moon.txt -> build\\lib.win-amd64-3.7\\ephem\\tests\\usno\n",
      "  copying ephem\\tests\\usno\\apptopo_sun.txt -> build\\lib.win-amd64-3.7\\ephem\\tests\\usno\n",
      "  copying ephem\\tests\\usno\\astrom_antares.txt -> build\\lib.win-amd64-3.7\\ephem\\tests\\usno\n",
      "  copying ephem\\tests\\usno\\astrom_mercury.txt -> build\\lib.win-amd64-3.7\\ephem\\tests\\usno\n",
      "  copying ephem\\tests\\usno\\astrom_neptune.txt -> build\\lib.win-amd64-3.7\\ephem\\tests\\usno\n",
      "  copying ephem\\tests\\usno\\moon_phases.txt -> build\\lib.win-amd64-3.7\\ephem\\tests\\usno\n",
      "  copying ephem\\tests\\usno\\risettran_moon.txt -> build\\lib.win-amd64-3.7\\ephem\\tests\\usno\n",
      "  copying ephem\\tests\\usno\\risettran_rigel.txt -> build\\lib.win-amd64-3.7\\ephem\\tests\\usno\n",
      "  copying ephem\\tests\\usno\\riset_moon.txt -> build\\lib.win-amd64-3.7\\ephem\\tests\\usno\n",
      "  copying ephem\\tests\\usno\\riset_sun.txt -> build\\lib.win-amd64-3.7\\ephem\\tests\\usno\n",
      "  running build_ext\n",
      "  building 'ephem._libastro' extension\n",
      "  error: Microsoft Visual C++ 14.0 is required. Get it with \"Microsoft Visual C++ Build Tools\": https://visualstudio.microsoft.com/downloads/\n",
      "  \n",
      "  ----------------------------------------\n",
      "  Running setup.py clean for ephem\n",
      "Successfully built holidays\n",
      "Failed to build fbprophet ephem\n",
      "Installing collected packages: lunardate, ephem, convertdate, holidays, setuptools-git, fbprophet\n",
      "  Running setup.py install for ephem: started\n",
      "    Running setup.py install for ephem: finished with status 'error'\n",
      "    Complete output from command C:\\Users\\user\\Anaconda3\\python.exe -u -c \"import setuptools, tokenize;__file__='C:\\\\Users\\\\user\\\\AppData\\\\Local\\\\Temp\\\\pip-install-gvhr1h68\\\\ephem\\\\setup.py';f=getattr(tokenize, 'open', open)(__file__);code=f.read().replace('\\r\\n', '\\n');f.close();exec(compile(code, __file__, 'exec'))\" install --record C:\\Users\\user\\AppData\\Local\\Temp\\pip-record-o68u_t8m\\install-record.txt --single-version-externally-managed --compile:\n",
      "    running install\n",
      "    running build\n",
      "    running build_py\n",
      "    creating build\n",
      "    creating build\\lib.win-amd64-3.7\n",
      "    creating build\\lib.win-amd64-3.7\\ephem\n",
      "    copying ephem\\cities.py -> build\\lib.win-amd64-3.7\\ephem\n",
      "    copying ephem\\stars.py -> build\\lib.win-amd64-3.7\\ephem\n",
      "    copying ephem\\__init__.py -> build\\lib.win-amd64-3.7\\ephem\n",
      "    creating build\\lib.win-amd64-3.7\\ephem\\tests\n",
      "    copying ephem\\tests\\test_angles.py -> build\\lib.win-amd64-3.7\\ephem\\tests\n",
      "    copying ephem\\tests\\test_bodies.py -> build\\lib.win-amd64-3.7\\ephem\\tests\n",
      "    copying ephem\\tests\\test_cities.py -> build\\lib.win-amd64-3.7\\ephem\\tests\n",
      "    copying ephem\\tests\\test_constants.py -> build\\lib.win-amd64-3.7\\ephem\\tests\n",
      "    copying ephem\\tests\\test_dates.py -> build\\lib.win-amd64-3.7\\ephem\\tests\n",
      "    copying ephem\\tests\\test_github_issues.py -> build\\lib.win-amd64-3.7\\ephem\\tests\n",
      "    copying ephem\\tests\\test_jpl.py -> build\\lib.win-amd64-3.7\\ephem\\tests\n",
      "    copying ephem\\tests\\test_launchpad_236872.py -> build\\lib.win-amd64-3.7\\ephem\\tests\n",
      "    copying ephem\\tests\\test_launchpad_244811.py -> build\\lib.win-amd64-3.7\\ephem\\tests\n",
      "    copying ephem\\tests\\test_locales.py -> build\\lib.win-amd64-3.7\\ephem\\tests\n",
      "    copying ephem\\tests\\test_observers.py -> build\\lib.win-amd64-3.7\\ephem\\tests\n",
      "    copying ephem\\tests\\test_rst.py -> build\\lib.win-amd64-3.7\\ephem\\tests\n",
      "    copying ephem\\tests\\test_satellite.py -> build\\lib.win-amd64-3.7\\ephem\\tests\n",
      "    copying ephem\\tests\\test_stars.py -> build\\lib.win-amd64-3.7\\ephem\\tests\n",
      "    copying ephem\\tests\\test_usno.py -> build\\lib.win-amd64-3.7\\ephem\\tests\n",
      "    copying ephem\\tests\\test_usno_equinoxes.py -> build\\lib.win-amd64-3.7\\ephem\\tests\n",
      "    copying ephem\\tests\\__init__.py -> build\\lib.win-amd64-3.7\\ephem\\tests\n",
      "    creating build\\lib.win-amd64-3.7\\ephem\\doc\n",
      "    copying ephem\\doc\\angle.rst -> build\\lib.win-amd64-3.7\\ephem\\doc\n",
      "    copying ephem\\doc\\catalogs.rst -> build\\lib.win-amd64-3.7\\ephem\\doc\n",
      "    copying ephem\\doc\\CHANGELOG.rst -> build\\lib.win-amd64-3.7\\ephem\\doc\n",
      "    copying ephem\\doc\\coordinates.rst -> build\\lib.win-amd64-3.7\\ephem\\doc\n",
      "    copying ephem\\doc\\date.rst -> build\\lib.win-amd64-3.7\\ephem\\doc\n",
      "    copying ephem\\doc\\examples.rst -> build\\lib.win-amd64-3.7\\ephem\\doc\n",
      "    copying ephem\\doc\\faq.rst -> build\\lib.win-amd64-3.7\\ephem\\doc\n",
      "    copying ephem\\doc\\index.rst -> build\\lib.win-amd64-3.7\\ephem\\doc\n",
      "    copying ephem\\doc\\newton.rst -> build\\lib.win-amd64-3.7\\ephem\\doc\n",
      "    copying ephem\\doc\\quick.rst -> build\\lib.win-amd64-3.7\\ephem\\doc\n",
      "    copying ephem\\doc\\radec.rst -> build\\lib.win-amd64-3.7\\ephem\\doc\n",
      "    copying ephem\\doc\\reference.rst -> build\\lib.win-amd64-3.7\\ephem\\doc\n",
      "    copying ephem\\doc\\rise-set.rst -> build\\lib.win-amd64-3.7\\ephem\\doc\n",
      "    copying ephem\\doc\\tutorial.rst -> build\\lib.win-amd64-3.7\\ephem\\doc\n",
      "    creating build\\lib.win-amd64-3.7\\ephem\\tests\\jpl\n",
      "    copying ephem\\tests\\jpl\\europa.txt -> build\\lib.win-amd64-3.7\\ephem\\tests\\jpl\n",
      "    copying ephem\\tests\\jpl\\hyperion.txt -> build\\lib.win-amd64-3.7\\ephem\\tests\\jpl\n",
      "    copying ephem\\tests\\jpl\\jupiter.txt -> build\\lib.win-amd64-3.7\\ephem\\tests\\jpl\n",
      "    copying ephem\\tests\\jpl\\mars.txt -> build\\lib.win-amd64-3.7\\ephem\\tests\\jpl\n",
      "    copying ephem\\tests\\jpl\\neptune.txt -> build\\lib.win-amd64-3.7\\ephem\\tests\\jpl\n",
      "    copying ephem\\tests\\jpl\\oberon.txt -> build\\lib.win-amd64-3.7\\ephem\\tests\\jpl\n",
      "    copying ephem\\tests\\jpl\\phobos.txt -> build\\lib.win-amd64-3.7\\ephem\\tests\\jpl\n",
      "    copying ephem\\tests\\jpl\\saturn.txt -> build\\lib.win-amd64-3.7\\ephem\\tests\\jpl\n",
      "    copying ephem\\tests\\jpl\\uranus.txt -> build\\lib.win-amd64-3.7\\ephem\\tests\\jpl\n",
      "    creating build\\lib.win-amd64-3.7\\ephem\\tests\\usno\n",
      "    copying ephem\\tests\\usno\\appgeo_deneb.txt -> build\\lib.win-amd64-3.7\\ephem\\tests\\usno\n",
      "    copying ephem\\tests\\usno\\appgeo_jupiter.txt -> build\\lib.win-amd64-3.7\\ephem\\tests\\usno\n",
      "    copying ephem\\tests\\usno\\appgeo_moon.txt -> build\\lib.win-amd64-3.7\\ephem\\tests\\usno\n",
      "    copying ephem\\tests\\usno\\appgeo_sun.txt -> build\\lib.win-amd64-3.7\\ephem\\tests\\usno\n",
      "    copying ephem\\tests\\usno\\apptopo_deneb.txt -> build\\lib.win-amd64-3.7\\ephem\\tests\\usno\n",
      "    copying ephem\\tests\\usno\\apptopo_moon.txt -> build\\lib.win-amd64-3.7\\ephem\\tests\\usno\n",
      "    copying ephem\\tests\\usno\\apptopo_sun.txt -> build\\lib.win-amd64-3.7\\ephem\\tests\\usno\n",
      "    copying ephem\\tests\\usno\\astrom_antares.txt -> build\\lib.win-amd64-3.7\\ephem\\tests\\usno\n",
      "    copying ephem\\tests\\usno\\astrom_mercury.txt -> build\\lib.win-amd64-3.7\\ephem\\tests\\usno\n",
      "    copying ephem\\tests\\usno\\astrom_neptune.txt -> build\\lib.win-amd64-3.7\\ephem\\tests\\usno\n",
      "    copying ephem\\tests\\usno\\moon_phases.txt -> build\\lib.win-amd64-3.7\\ephem\\tests\\usno\n",
      "    copying ephem\\tests\\usno\\risettran_moon.txt -> build\\lib.win-amd64-3.7\\ephem\\tests\\usno\n",
      "    copying ephem\\tests\\usno\\risettran_rigel.txt -> build\\lib.win-amd64-3.7\\ephem\\tests\\usno\n",
      "    copying ephem\\tests\\usno\\riset_moon.txt -> build\\lib.win-amd64-3.7\\ephem\\tests\\usno\n",
      "    copying ephem\\tests\\usno\\riset_sun.txt -> build\\lib.win-amd64-3.7\\ephem\\tests\\usno\n",
      "    running build_ext\n",
      "    building 'ephem._libastro' extension\n",
      "    error: Microsoft Visual C++ 14.0 is required. Get it with \"Microsoft Visual C++ Build Tools\": https://visualstudio.microsoft.com/downloads/\n",
      "    \n",
      "    ----------------------------------------\n"
     ]
    },
    {
     "name": "stderr",
     "output_type": "stream",
     "text": [
      "  Failed building wheel for fbprophet\n",
      "  Failed building wheel for ephem\n",
      "Command \"C:\\Users\\user\\Anaconda3\\python.exe -u -c \"import setuptools, tokenize;__file__='C:\\\\Users\\\\user\\\\AppData\\\\Local\\\\Temp\\\\pip-install-gvhr1h68\\\\ephem\\\\setup.py';f=getattr(tokenize, 'open', open)(__file__);code=f.read().replace('\\r\\n', '\\n');f.close();exec(compile(code, __file__, 'exec'))\" install --record C:\\Users\\user\\AppData\\Local\\Temp\\pip-record-o68u_t8m\\install-record.txt --single-version-externally-managed --compile\" failed with error code 1 in C:\\Users\\user\\AppData\\Local\\Temp\\pip-install-gvhr1h68\\ephem\\\n"
     ]
    }
   ],
   "source": [
    "! pip install fbprophet"
   ]
  },
  {
   "cell_type": "code",
   "execution_count": 5,
   "metadata": {},
   "outputs": [
    {
     "ename": "ModuleNotFoundError",
     "evalue": "No module named 'fbprophet'",
     "output_type": "error",
     "traceback": [
      "\u001b[1;31m---------------------------------------------------------------------------\u001b[0m",
      "\u001b[1;31mModuleNotFoundError\u001b[0m                       Traceback (most recent call last)",
      "\u001b[1;32m<ipython-input-5-eb3669de8d53>\u001b[0m in \u001b[0;36m<module>\u001b[1;34m\u001b[0m\n\u001b[0;32m      7\u001b[0m \u001b[0mget_ipython\u001b[0m\u001b[1;33m(\u001b[0m\u001b[1;33m)\u001b[0m\u001b[1;33m.\u001b[0m\u001b[0mrun_line_magic\u001b[0m\u001b[1;33m(\u001b[0m\u001b[1;34m'matplotlib'\u001b[0m\u001b[1;33m,\u001b[0m \u001b[1;34m'inline'\u001b[0m\u001b[1;33m)\u001b[0m\u001b[1;33m\u001b[0m\u001b[1;33m\u001b[0m\u001b[0m\n\u001b[0;32m      8\u001b[0m \u001b[1;33m\u001b[0m\u001b[0m\n\u001b[1;32m----> 9\u001b[1;33m \u001b[1;32mfrom\u001b[0m \u001b[0mfbprophet\u001b[0m \u001b[1;32mimport\u001b[0m \u001b[0mProphet\u001b[0m\u001b[1;33m\u001b[0m\u001b[1;33m\u001b[0m\u001b[0m\n\u001b[0m\u001b[0;32m     10\u001b[0m \u001b[1;32mfrom\u001b[0m \u001b[0mdatetime\u001b[0m \u001b[1;32mimport\u001b[0m \u001b[0mdatetime\u001b[0m\u001b[1;33m\u001b[0m\u001b[1;33m\u001b[0m\u001b[0m\n",
      "\u001b[1;31mModuleNotFoundError\u001b[0m: No module named 'fbprophet'"
     ]
    }
   ],
   "source": [
    "import warnings\n",
    "warnings.filterwarnings(\"ignore\")\n",
    "import pandas as pd\n",
    "import pandas_datareader.data as web\n",
    "import numpy as np\n",
    "import matplotlib.pyplot as plt\n",
    "%matplotlib inline\n",
    "\n",
    "from fbprophet import Prophet\n",
    "from datetime import datetime"
   ]
  },
  {
   "cell_type": "code",
   "execution_count": null,
   "metadata": {},
   "outputs": [],
   "source": [
    "path = \"c:/Windows/Fonts/malgun.ttf\"\n",
    "import platform\n",
    "from matplotlib import font_manager, rc\n",
    "font_name = font_manager.FontProperties(fname=path).get_name()\n",
    "rc('font', family=font_name)\n",
    " \n",
    "plt.rcParams['axes.unicode_minus'] = False"
   ]
  },
  {
   "cell_type": "code",
   "execution_count": null,
   "metadata": {},
   "outputs": [],
   "source": [
    "\n",
    "pinkwink_web = pd.read_csv('../data/07. PinkWink Web Traffic.csv', \n",
    "                                          encoding='utf-8', thousands=',',\n",
    "                                          names = ['date','hit'], index_col=0)\n",
    "pinkwink_web = pinkwink_web[pinkwink_web['hit'].notnull()]\n",
    "pinkwink_web.head()"
   ]
  },
  {
   "cell_type": "code",
   "execution_count": null,
   "metadata": {},
   "outputs": [],
   "source": []
  },
  {
   "cell_type": "code",
   "execution_count": null,
   "metadata": {},
   "outputs": [],
   "source": []
  },
  {
   "cell_type": "code",
   "execution_count": null,
   "metadata": {},
   "outputs": [],
   "source": []
  },
  {
   "cell_type": "code",
   "execution_count": null,
   "metadata": {},
   "outputs": [],
   "source": []
  },
  {
   "cell_type": "code",
   "execution_count": null,
   "metadata": {},
   "outputs": [],
   "source": []
  },
  {
   "cell_type": "code",
   "execution_count": null,
   "metadata": {},
   "outputs": [],
   "source": []
  },
  {
   "cell_type": "code",
   "execution_count": null,
   "metadata": {},
   "outputs": [],
   "source": []
  }
 ],
 "metadata": {
  "kernelspec": {
   "display_name": "Python 3",
   "language": "python",
   "name": "python3"
  },
  "language_info": {
   "codemirror_mode": {
    "name": "ipython",
    "version": 3
   },
   "file_extension": ".py",
   "mimetype": "text/x-python",
   "name": "python",
   "nbconvert_exporter": "python",
   "pygments_lexer": "ipython3",
   "version": "3.7.3"
  }
 },
 "nbformat": 4,
 "nbformat_minor": 2
}
