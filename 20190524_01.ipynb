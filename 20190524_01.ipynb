{
 "cells": [
  {
   "cell_type": "code",
   "execution_count": 71,
   "metadata": {},
   "outputs": [
    {
     "name": "stdout",
     "output_type": "stream",
     "text": [
      "[1, 36, 32, 39, 27, 40]\n",
      "[34, 41, 13, 9, 1, 14]\n",
      "[23, 1, 39, 17, 21, 24]\n",
      "[45, 4, 3, 21, 6, 29]\n",
      "[6, 43, 14, 26, 3, 25]\n",
      "\n",
      "1등 가즈아!\n",
      "[3, 6, 14, 25, 26, 43]\n",
      "sorted() 하고 난 후 :  [6, 43, 14, 26, 3, 25]\n",
      ".sort() 하고 난 후 :  [3, 6, 14, 25, 26, 43]\n"
     ]
    }
   ],
   "source": [
    "import random\n",
    "numbers = range(1, 46)  # 1에서 45까지 숫자가 나옴\n",
    "for i in range(0,5) :\n",
    "    lotto = random.sample(numbers, 6)\n",
    "    print(lotto)\n",
    "print(\"\\n1등 가즈아!\")\n",
    "\n",
    "print(sorted(lotto))  # 원본을 바꾸지 않고 순차정렬\n",
    "\n",
    "print(\"sorted() 하고 난 후 : \", lotto)\n",
    "\n",
    "lotto.sort() # 원본을 바꾸고 순차정렬\n",
    "\n",
    "print(\".sort() 하고 난 후 : \", lotto)\n"
   ]
  },
  {
   "cell_type": "markdown",
   "metadata": {},
   "source": [
    "## 파이참에서 해보기"
   ]
  },
  {
   "cell_type": "code",
   "execution_count": 8,
   "metadata": {},
   "outputs": [
    {
     "name": "stdout",
     "output_type": "stream",
     "text": [
      "<Response [200]>\n"
     ]
    },
    {
     "data": {
      "text/plain": [
       "200"
      ]
     },
     "execution_count": 8,
     "metadata": {},
     "output_type": "execute_result"
    }
   ],
   "source": [
    "# !pip install requests\n",
    "import requests\n",
    "\n",
    "res = requests.get(\"https://www.naver.com\").text  # <Response [200]>  -> 정상적으로 작동한다는 의미\n",
    "print(res)\n",
    "\n",
    "res.status_code    # 200"
   ]
  },
  {
   "cell_type": "code",
   "execution_count": 10,
   "metadata": {
    "scrolled": true
   },
   "outputs": [
    {
     "name": "stdout",
     "output_type": "stream",
     "text": [
      "<span class=\"num num2\" id=\"KOSPI_now\">2,045.31</span>\n",
      "2,045.31\n"
     ]
    }
   ],
   "source": [
    "# !pip install bs4\n",
    "import bs4\n",
    "\n",
    "# 국내증시에서 코스피지수 가져오기\n",
    "\n",
    "res = requests.get(\"https://finance.naver.com/sise/\").text        # <Response [200]>  -> 정상적으로 작동한다는 의미\n",
    "#print(res)\n",
    "\n",
    "\n",
    "text = bs4.BeautifulSoup(res, 'html.parser')\n",
    "\n",
    "# chrome -> 검사 -> copy -> copy selector 를 하면 #KOSPI_now 가 복사가 됨\n",
    "kospi = text.select_one('#KOSPI_now')\n",
    "print(kospi)\n",
    "print(kospi.text)"
   ]
  },
  {
   "cell_type": "markdown",
   "metadata": {},
   "source": [
    "## 네이버 금융에 있는 시장지표에서 미국USD 정보 가져오기"
   ]
  },
  {
   "cell_type": "code",
   "execution_count": 11,
   "metadata": {},
   "outputs": [
    {
     "name": "stdout",
     "output_type": "stream",
     "text": [
      "<span class=\"value\">1,188.00</span>\n",
      "1,188.00\n"
     ]
    }
   ],
   "source": [
    "res2 = requests.get('https://finance.naver.com/marketindex/').text\n",
    "text2 = bs4.BeautifulSoup(res2, 'html.parser')\n",
    "usd = text2.select_one('#exchangeList > li.on > a.head.usd > div > span.value')\n",
    "\n",
    "print(usd)\n",
    "print(usd.text)"
   ]
  },
  {
   "cell_type": "markdown",
   "metadata": {},
   "source": []
  },
  {
   "cell_type": "code",
   "execution_count": null,
   "metadata": {},
   "outputs": [],
   "source": [
    "import os\n",
    "import random\n",
    "family = ['김','이','박','최','황','오','강','한','제갈','하','정','송','현','손','조']\n",
    "given = ['길동','준','민준','소미','수진','지은','동해','민태','준호','세정','지훈','성우','성원']\n",
    "\n",
    "for i in range(500):\n",
    "    cmd = f\"touch {str(i)}_{random.choice(family)}{random.choice(given)}.txt\"\n",
    "    print(cmd)\n",
    "    os.system(cmd)"
   ]
  },
  {
   "cell_type": "markdown",
   "metadata": {},
   "source": [
    "git의 작업 흐름\n",
    "\n",
    "add 커밋할 목록에 추가\n",
    "commit 커밋(create a snapshot) 만들기\n",
    "push 현재까지의 역사(commits) 가 기록되어 있는 곳에 새로 생성한 커밋들 반영하기\n",
    "\n",
    "\n",
    "\n",
    "작업(수정)한 파일  -----> \n",
    "\n",
    "\n",
    "\n",
    "1. git init\n",
    "\n",
    "git\n",
    "\n",
    "git config --global --list\n",
    "-> 사용자 이름과 메일주소가 나옴\n",
    "\n",
    "git config --global user.email \"hgsok3056@naver.com\"\n",
    "-> 메일 설정\n",
    "\n",
    "git config --global user.name \"GiSeok Hong\"\n",
    "-> 이름 설정\n",
    "\n",
    "\n",
    "2. git add '파일명'\n",
    "\n",
    "3. git status\n",
    "\n",
    "4. git commit -m \"내용\"\n",
    "\n",
    "5. git log\n",
    "-> 누가 기록을 남겼는지 확인 가능"
   ]
  },
  {
   "cell_type": "code",
   "execution_count": null,
   "metadata": {},
   "outputs": [],
   "source": []
  },
  {
   "cell_type": "code",
   "execution_count": null,
   "metadata": {},
   "outputs": [],
   "source": []
  },
  {
   "cell_type": "code",
   "execution_count": null,
   "metadata": {},
   "outputs": [],
   "source": []
  },
  {
   "cell_type": "code",
   "execution_count": null,
   "metadata": {},
   "outputs": [],
   "source": []
  }
 ],
 "metadata": {
  "kernelspec": {
   "display_name": "Python 3",
   "language": "python",
   "name": "python3"
  },
  "language_info": {
   "codemirror_mode": {
    "name": "ipython",
    "version": 3
   },
   "file_extension": ".py",
   "mimetype": "text/x-python",
   "name": "python",
   "nbconvert_exporter": "python",
   "pygments_lexer": "ipython3",
   "version": "3.7.1"
  }
 },
 "nbformat": 4,
 "nbformat_minor": 2
}
