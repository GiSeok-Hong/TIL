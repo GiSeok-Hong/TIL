{
 "cells": [
  {
   "cell_type": "code",
   "execution_count": 4,
   "metadata": {},
   "outputs": [
    {
     "data": {
      "text/plain": [
       "array([[1, 2, 3, 4, 5]])"
      ]
     },
     "execution_count": 4,
     "metadata": {},
     "output_type": "execute_result"
    }
   ],
   "source": [
    "import numpy as np\n",
    "test = np.array([1,2,3])\n",
    "test\n",
    "test2 = np.array([[1,2,3],[4,5,6]])\n",
    "test2   # array([[1, 2, 3],\n",
    "       #        [4, 5, 6]])\n",
    "test3 = np.array([1,2,3,4,5], ndmin = 2)\n",
    "test3 # array([[1, 2, 3, 4, 5]])"
   ]
  },
  {
   "cell_type": "code",
   "execution_count": 8,
   "metadata": {},
   "outputs": [
    {
     "data": {
      "text/plain": [
       "(1, 5)"
      ]
     },
     "execution_count": 8,
     "metadata": {},
     "output_type": "execute_result"
    }
   ],
   "source": [
    "test.shape  # (3,)\n",
    "test2.shape # (2, 3)\n",
    "test3.shape # (1, 5)"
   ]
  },
  {
   "cell_type": "code",
   "execution_count": 10,
   "metadata": {},
   "outputs": [
    {
     "data": {
      "text/plain": [
       "(2, 3)"
      ]
     },
     "execution_count": 10,
     "metadata": {},
     "output_type": "execute_result"
    }
   ],
   "source": [
    "test4 = np.array([[1,2,3], [4,5,6]])\n",
    "test4.shape # (2, 3)"
   ]
  },
  {
   "cell_type": "code",
   "execution_count": 14,
   "metadata": {},
   "outputs": [
    {
     "data": {
      "text/plain": [
       "array([[1, 2],\n",
       "       [3, 4],\n",
       "       [5, 6]])"
      ]
     },
     "execution_count": 14,
     "metadata": {},
     "output_type": "execute_result"
    }
   ],
   "source": [
    "test5 = test4.reshape(3,2)\n",
    "test5\n",
    "# array([[1, 2],\n",
    "#       [3, 4],\n",
    "#       [5, 6]])\n"
   ]
  },
  {
   "cell_type": "code",
   "execution_count": 16,
   "metadata": {},
   "outputs": [
    {
     "data": {
      "text/plain": [
       "array([0, 1, 2, 3, 4, 5, 6, 7, 8, 9])"
      ]
     },
     "execution_count": 16,
     "metadata": {},
     "output_type": "execute_result"
    }
   ],
   "source": [
    "test6 = np.arange(10)\n",
    "test6 # array([0, 1, 2, 3, 4, 5, 6, 7, 8, 9])\n",
    "\n"
   ]
  },
  {
   "cell_type": "code",
   "execution_count": 24,
   "metadata": {},
   "outputs": [
    {
     "data": {
      "text/plain": [
       "(10,)"
      ]
     },
     "execution_count": 24,
     "metadata": {},
     "output_type": "execute_result"
    }
   ],
   "source": [
    "test6[0] # 0\n",
    "test6[:5] # array([0, 1, 2, 3, 4])\n",
    "test6[-1] # 9\n",
    "test6[1:-1] # array([1, 2, 3, 4, 5, 6, 7, 8])\n",
    "test6[0:] # array([0, 1, 2, 3, 4, 5, 6, 7, 8, 9])\n",
    "test6.shape # (10,)"
   ]
  },
  {
   "cell_type": "code",
   "execution_count": 33,
   "metadata": {},
   "outputs": [
    {
     "data": {
      "text/plain": [
       "array([[1, 3],\n",
       "       [4, 6],\n",
       "       [7, 9]])"
      ]
     },
     "execution_count": 33,
     "metadata": {},
     "output_type": "execute_result"
    }
   ],
   "source": [
    "test7 = np.array([[1,2,3], [4,5,6], [7,8,9]])\n",
    "test7.shape # (3,3)\n",
    "test7[1] # array([4, 5, 6])\n",
    "test7[0,2] # 3\n",
    "test7[1:] # array([[4, 5, 6],\n",
    "                 # [7, 8, 9]])\n",
    "test7[1,1] # 5\n",
    "test7[:,1] # array([2, 5, 8])\n",
    "test7[-1,:] # array([7, 8, 9])    [rows, cols]\n",
    "test7[:, [0,2]] # array([[1, 3],\n",
    "                       # [4, 6],\n",
    "                       # [7, 9]])\n"
   ]
  },
  {
   "cell_type": "code",
   "execution_count": 36,
   "metadata": {},
   "outputs": [
    {
     "data": {
      "text/plain": [
       "array([1, 2, 3])"
      ]
     },
     "execution_count": 36,
     "metadata": {},
     "output_type": "execute_result"
    }
   ],
   "source": [
    "test8 = np.array([[1,2,3], [4,5,6], [7,8,9]])\n",
    "np.amin(test8) # 1    최소값\n",
    "np.amin(test8, 1) # array([1, 4, 7])     1은 세로축  rows\n",
    "np.amin(test8, 0) # array([1, 2, 3])     0은 가로축  cols\n"
   ]
  },
  {
   "cell_type": "code",
   "execution_count": 40,
   "metadata": {},
   "outputs": [
    {
     "data": {
      "text/plain": [
       "array([7, 8, 9])"
      ]
     },
     "execution_count": 40,
     "metadata": {},
     "output_type": "execute_result"
    }
   ],
   "source": [
    "np.amax(test8) # 9\n",
    "np.amax(test8, 1) # array([3, 6, 9])\n",
    "np.amax(test8, 0) # array([7, 8, 9])"
   ]
  },
  {
   "cell_type": "code",
   "execution_count": 42,
   "metadata": {},
   "outputs": [
    {
     "data": {
      "text/plain": [
       "8"
      ]
     },
     "execution_count": 42,
     "metadata": {},
     "output_type": "execute_result"
    }
   ],
   "source": [
    "# ptp     min ~ max\n",
    "np.ptp(test8) # 8     min ~ max"
   ]
  },
  {
   "cell_type": "code",
   "execution_count": 50,
   "metadata": {},
   "outputs": [
    {
     "data": {
      "text/plain": [
       "array([1., 2., 3.])"
      ]
     },
     "execution_count": 50,
     "metadata": {},
     "output_type": "execute_result"
    }
   ],
   "source": [
    "np.percentile(test8, 50)   # 5.0\n",
    "np.percentile(test8, 50, 1) # array([2., 5., 8.])\n",
    "np.percentile(test8, 50, 0) # array([4., 5., 6.])\n",
    "np.percentile(test8, 0) # 1.0\n",
    "np.percentile(test8, 0, 0) # array([1., 2., 3.])"
   ]
  },
  {
   "cell_type": "code",
   "execution_count": 53,
   "metadata": {},
   "outputs": [
    {
     "data": {
      "text/plain": [
       "array([4., 5., 6.])"
      ]
     },
     "execution_count": 53,
     "metadata": {},
     "output_type": "execute_result"
    }
   ],
   "source": [
    "# median 중간 값 \n",
    "#중간값이란 여러 값을 오름차순이나 내림차순으로 늘어놓았을 때, 맨 가운데 있는 값을 말한다.\n",
    "#값들의 개수가 짝수라면 가운데 두 값의 산술평균을 중간값으로 정한다.\n",
    "\n",
    "np.median(test8) # 5.0\n",
    "np.median(test8, 1) # array([2., 5., 8.])\n",
    "np.median(test8, 0) # array([4., 5., 6.])\n"
   ]
  },
  {
   "cell_type": "code",
   "execution_count": 78,
   "metadata": {},
   "outputs": [
    {
     "data": {
      "text/plain": [
       "array([4., 5., 6.])"
      ]
     },
     "execution_count": 78,
     "metadata": {},
     "output_type": "execute_result"
    }
   ],
   "source": [
    "# mean   산술평균\n",
    "# 수학과 통계학에서 산술 평균(算術平均, arithmetic mean)은 주어진 수의 합을 수의 개수로 나눈 값이다.\n",
    "np.mean(test8) # 5.0\n",
    "np.mean(test8, 0) # array([4., 5., 6.])"
   ]
  },
  {
   "cell_type": "code",
   "execution_count": 57,
   "metadata": {},
   "outputs": [
    {
     "data": {
      "text/plain": [
       "5.0"
      ]
     },
     "execution_count": 57,
     "metadata": {},
     "output_type": "execute_result"
    }
   ],
   "source": [
    "# average   가중산술평균\n",
    "# 가중 산술 평균은 자료의 평균을 구할 때\n",
    "# 자료 값의 중요도나 영향 정도에 해당하는 가중치를 반영하여 구한 평균값이다.\n",
    "np.average(test8) # 5.0"
   ]
  },
  {
   "cell_type": "code",
   "execution_count": 58,
   "metadata": {},
   "outputs": [
    {
     "data": {
      "text/plain": [
       "2.581988897471611"
      ]
     },
     "execution_count": 58,
     "metadata": {},
     "output_type": "execute_result"
    }
   ],
   "source": [
    "# std   표준편차\n",
    "np.std(test8) # 2.581988897471611"
   ]
  },
  {
   "cell_type": "code",
   "execution_count": 64,
   "metadata": {},
   "outputs": [
    {
     "data": {
      "text/plain": [
       "1.25"
      ]
     },
     "execution_count": 64,
     "metadata": {},
     "output_type": "execute_result"
    }
   ],
   "source": [
    "data = [1,2,3,4]\n",
    "np.mean(data) # 2.5\n",
    "np.std(data) # 1.118033988749895\n",
    "np.median(data) # 2.5\n",
    "np.average(data) # 2.5\n",
    "np.var(data) # 1.25"
   ]
  },
  {
   "cell_type": "code",
   "execution_count": 77,
   "metadata": {},
   "outputs": [
    {
     "data": {
      "text/plain": [
       "19794007.189999998"
      ]
     },
     "execution_count": 77,
     "metadata": {},
     "output_type": "execute_result"
    }
   ],
   "source": [
    "data1 = [1,2,3,4,5,5,7,8,9,10,15,18,20,105,671,1025,1233,1566,11662,17673]\n",
    "np.mean(data1)      # 1702.1                        산술평균\n",
    "np.std(data1)       # 4449.045649349981             표준편차\n",
    "np.median(data1)    # 12.5                          중간값\n",
    "np.average(data1)   # 1702.1                        가중산술평균\n",
    "np.var(data1)       # 19794007.189999998            분산"
   ]
  },
  {
   "cell_type": "code",
   "execution_count": 67,
   "metadata": {},
   "outputs": [],
   "source": [
    "import statistics\n",
    "test_data = [5,2,5,6,1,1,2,5,7,8]"
   ]
  },
  {
   "cell_type": "code",
   "execution_count": 72,
   "metadata": {},
   "outputs": [
    {
     "data": {
      "text/plain": [
       "5"
      ]
     },
     "execution_count": 72,
     "metadata": {},
     "output_type": "execute_result"
    }
   ],
   "source": [
    "statistics.mean(test_data)     # 4.2      평균\n",
    "statistics.median(test_data)   # 5.0     중간값\n",
    "statistics.stdev(test_data)    # 2.5298221281347035\n",
    "statistics.variance(test_data) # 6.4\n",
    "statistics.mode(test_data)     # 5"
   ]
  }
 ],
 "metadata": {
  "kernelspec": {
   "display_name": "Python 3",
   "language": "python",
   "name": "python3"
  },
  "language_info": {
   "codemirror_mode": {
    "name": "ipython",
    "version": 3
   },
   "file_extension": ".py",
   "mimetype": "text/x-python",
   "name": "python",
   "nbconvert_exporter": "python",
   "pygments_lexer": "ipython3",
   "version": "3.7.1"
  }
 },
 "nbformat": 4,
 "nbformat_minor": 2
}
