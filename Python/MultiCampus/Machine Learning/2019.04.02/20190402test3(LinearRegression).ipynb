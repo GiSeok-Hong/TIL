{
 "cells": [
  {
   "cell_type": "code",
   "execution_count": 1,
   "metadata": {},
   "outputs": [
    {
     "data": {
      "text/plain": [
       "<Figure size 640x480 with 1 Axes>"
      ]
     },
     "metadata": {},
     "output_type": "display_data"
    },
    {
     "data": {
      "text/plain": [
       "10"
      ]
     },
     "execution_count": 1,
     "metadata": {},
     "output_type": "execute_result"
    }
   ],
   "source": [
    "import numpy as np\n",
    "import matplotlib.pyplot as plt\n",
    "\n",
    "data = [5,2,5,6,1,1,2,5,7,8, 10, 10, 10, 10,10]  # 총 15개의 숫자\n",
    "\n",
    "plt.hist(data, bins = 10)\n",
    "plt.show()\n",
    "\n",
    "np.median(data) # 6.0   중간값\n",
    "np.mean(data)   # 6.133333333333334      산술평균\n",
    "np.amax(data)   # 10    최대값"
   ]
  },
  {
   "cell_type": "code",
   "execution_count": 2,
   "metadata": {},
   "outputs": [],
   "source": [
    "import numpy as np\n",
    "import matplotlib.pyplot as plt\n",
    "import pandas as pd\n",
    "\n",
    "# 선형회귀를 사용하기 위한 준비\n",
    "from sklearn.model_selection import train_test_split\n",
    "from sklearn.linear_model import LinearRegression\n",
    "\n",
    "# 모형 추정 즉 학습을 위한 데이터 집합 (training data set)\n",
    "# 성능 검증을 위한 데이터 집합 (test data set)\n",
    "# 두 데이터 집합 모두 종속 변수값이 있어야 한다.\n",
    "# 따라서 보통은 가지고 있는 데이터 집합을 학습용과 검증용으로 나누어\n",
    "# 학습용 데이터만을 사용하여 회귀분석 모형을 만들고\n",
    "# 검증용 데이터로 성능을 계산하는 학습/검증 데이터 분리(train-test split) 방법을 사용한다."
   ]
  },
  {
   "cell_type": "code",
   "execution_count": 3,
   "metadata": {},
   "outputs": [
    {
     "data": {
      "text/plain": [
       "((30, 1), (30, 1))"
      ]
     },
     "execution_count": 3,
     "metadata": {},
     "output_type": "execute_result"
    }
   ],
   "source": [
    "# csv 파일 불러오기\n",
    "data2 = pd.read_csv(\"C:\\MyPython\\csv\\salary.csv\")\n",
    "#print(data2)   # YearsExperience 와  Salary가 있음\n",
    "data2['YearsExperience']\n",
    "data2['Salary']         # 대소문자 구분함\n",
    "type(data2['YearsExperience'])  # pandas.core.series.Series\n",
    "type(data2['Salary'])   # pandas.core.series.Series\n",
    "### Series 는 일련의 객체를 담을 수 있는 1차원 배열 같은 자료구조이다.   index와 values로 구성\n",
    "\n",
    "x = data2['YearsExperience'].values\n",
    "y = data2['Salary'].values\n",
    "#x\n",
    "# array([ 1.1,  1.3,  1.5,  2. ,  2.2,  2.9,  3. ,  3.2,  3.2,  3.7,  3.9,\n",
    "        #4. ,  4. ,  4.1,  4.5,  4.9,  5.1,  5.3,  5.9,  6. ,  6.8,  7.1,\n",
    "        #7.9,  8.2,  8.7,  9. ,  9.5,  9.6, 10.3, 10.5])\n",
    "#y\n",
    "# array([ 39343.,  46205.,  37731.,  43525.,  39891.,  56642.,  60150.,\n",
    "        #54445.,  64445.,  57189.,  63218.,  55794.,  56957.,  57081.,\n",
    "        #61111.,  67938.,  66029.,  83088.,  81363.,  93940.,  91738.,\n",
    "        #98273., 101302., 113812., 109431., 105582., 116969., 112635.,\n",
    "       #122391., 121872.])\n",
    "\n",
    "    \n",
    "# x 와 y를 1대1로 맞추기 위해 형변환\n",
    "x1 = x.reshape(len(x),1)  # or x1 = x.reshape(-1,1)\n",
    "x1.shape # (30,1)\n",
    "y1 = y.reshape(-1,1)\n",
    "x1.shape, y1.shape  # ((30, 1), (30, 1))  "
   ]
  },
  {
   "cell_type": "code",
   "execution_count": 4,
   "metadata": {},
   "outputs": [
    {
     "data": {
      "text/plain": [
       "(array([[ 2.9],\n",
       "        [ 5.1],\n",
       "        [ 3.2],\n",
       "        [ 4.5],\n",
       "        [ 8.2],\n",
       "        [ 6.8],\n",
       "        [ 1.3],\n",
       "        [10.5],\n",
       "        [ 3. ],\n",
       "        [ 2.2],\n",
       "        [ 5.9],\n",
       "        [ 6. ],\n",
       "        [ 3.7],\n",
       "        [ 3.2],\n",
       "        [ 9. ],\n",
       "        [ 2. ],\n",
       "        [ 1.1],\n",
       "        [ 7.1],\n",
       "        [ 4.9],\n",
       "        [ 4. ]]), array([[ 1.5],\n",
       "        [10.3],\n",
       "        [ 4.1],\n",
       "        [ 3.9],\n",
       "        [ 9.5],\n",
       "        [ 8.7],\n",
       "        [ 9.6],\n",
       "        [ 4. ],\n",
       "        [ 5.3],\n",
       "        [ 7.9]]), array([[ 56642.],\n",
       "        [ 66029.],\n",
       "        [ 64445.],\n",
       "        [ 61111.],\n",
       "        [113812.],\n",
       "        [ 91738.],\n",
       "        [ 46205.],\n",
       "        [121872.],\n",
       "        [ 60150.],\n",
       "        [ 39891.],\n",
       "        [ 81363.],\n",
       "        [ 93940.],\n",
       "        [ 57189.],\n",
       "        [ 54445.],\n",
       "        [105582.],\n",
       "        [ 43525.],\n",
       "        [ 39343.],\n",
       "        [ 98273.],\n",
       "        [ 67938.],\n",
       "        [ 56957.]]), array([[ 37731.],\n",
       "        [122391.],\n",
       "        [ 57081.],\n",
       "        [ 63218.],\n",
       "        [116969.],\n",
       "        [109431.],\n",
       "        [112635.],\n",
       "        [ 55794.],\n",
       "        [ 83088.],\n",
       "        [101302.]]))"
      ]
     },
     "execution_count": 4,
     "metadata": {},
     "output_type": "execute_result"
    }
   ],
   "source": [
    "# 데이터가 많을 때 다 하기에는 양이 많으니 표본을 뽑는 작업이라고 생각\n",
    "xTrain, xTest, yTrain, yTest = train_test_split(x1, y1, test_size = 1/3, random_state=0)\n",
    "                                                # 20개는 Train, 10개는 Test로 들어감 \n",
    "                                                # random_state=0\n",
    "xTrain, xTest, yTrain, yTest"
   ]
  },
  {
   "cell_type": "code",
   "execution_count": 13,
   "metadata": {},
   "outputs": [
    {
     "name": "stdout",
     "output_type": "stream",
     "text": [
      "[[ 1.5]\n",
      " [10.3]\n",
      " [ 4.1]\n",
      " [ 3.9]\n",
      " [ 9.5]\n",
      " [ 8.7]\n",
      " [ 9.6]\n",
      " [ 4. ]\n",
      " [ 5.3]\n",
      " [ 7.9]]\n",
      "[[ 40835.10590871]\n",
      " [123079.39940819]\n",
      " [ 65134.55626083]\n",
      " [ 63265.36777221]\n",
      " [115602.64545369]\n",
      " [108125.8914992 ]\n",
      " [116537.23969801]\n",
      " [ 64199.96201652]\n",
      " [ 76349.68719258]\n",
      " [100649.1375447 ]]\n",
      "[[ 37731.]\n",
      " [122391.]\n",
      " [ 57081.]\n",
      " [ 63218.]\n",
      " [116969.]\n",
      " [109431.]\n",
      " [112635.]\n",
      " [ 55794.]\n",
      " [ 83088.]\n",
      " [101302.]]\n"
     ]
    }
   ],
   "source": [
    "# 선형회귀를 위해 변수 선언\n",
    "linearTest = LinearRegression()          # LinearRegression()를 linearTest 라는 변수로 담는다.\n",
    "\n",
    "# xTrain 과 yTrain 을 1대1 대응 해줌\n",
    "linearTest.fit(xTrain, yTrain) # LinearRegression(copy_X=True, fit_intercept=True, n_jobs=None, normalize=False)\n",
    "                               # fit 을 쓰면 x 와 y 값을 묶어준다. \n",
    "    \n",
    "# xTest 값의 y 값을 예측하여 yPrediction 이라는 변수에 저장\n",
    "yPrediction = linearTest.predict(xTest)\n",
    "print(xTest)\n",
    "print(yPrediction)\n",
    "print(yTest)"
   ]
  },
  {
   "cell_type": "code",
   "execution_count": 6,
   "metadata": {},
   "outputs": [
    {
     "ename": "SyntaxError",
     "evalue": "invalid syntax (<ipython-input-6-ef6498014d28>, line 1)",
     "output_type": "error",
     "traceback": [
      "\u001b[1;36m  File \u001b[1;32m\"<ipython-input-6-ef6498014d28>\"\u001b[1;36m, line \u001b[1;32m1\u001b[0m\n\u001b[1;33m    통계학에서, 선형 회귀(線型回歸, 영어: linear regression)는 종속 변수 y와\u001b[0m\n\u001b[1;37m               ^\u001b[0m\n\u001b[1;31mSyntaxError\u001b[0m\u001b[1;31m:\u001b[0m invalid syntax\n"
     ]
    }
   ],
   "source": [
    "통계학에서, 선형 회귀(線型回歸, 영어: linear regression)는 종속 변수 y와\n",
    "한 개 이상의 독립 변수 (또는 설명 변수) X와의 선형 상관 관계를 모델링하는 회귀분석 기법이다.\n",
    "한 개의 설명 변수에 기반한 경우에는 단순 선형 회귀,\n",
    "둘 이상의 설명 변수에 기반한 경우에는 다중 선형 회귀라고 한다.\n",
    "\n",
    "선형 회귀는 선형 예측 함수를 사용해 회귀식을 모델링하며, 알려지지 않은 파라미터는 데이터로부터 추정한다.\n",
    "이렇게 만들어진 회귀식을 선형 모델이라고 한다.\n",
    "# y = ax + b"
   ]
  },
  {
   "cell_type": "code",
   "execution_count": 7,
   "metadata": {},
   "outputs": [
    {
     "data": {
      "image/png": "[encoded data removed]",
      "text/plain": [
       "<Figure size 432x288 with 1 Axes>"
      ]
     },
     "metadata": {
      "needs_background": "light"
     },
     "output_type": "display_data"
    },
    {
     "data": {
      "image/png": "[encoded data removed]",
      "text/plain": [
       "<Figure size 432x288 with 1 Axes>"
      ]
     },
     "metadata": {
      "needs_background": "light"
     },
     "output_type": "display_data"
    }
   ],
   "source": [
    "# 학습을 위한 데이터들로 점을 찍어본다.\n",
    "plt.scatter(xTrain,yTrain,color=\"red\")\n",
    "# 이것들에 대한 예측으로 선을 그어버림(중간값?)\n",
    "plt.plot(xTrain, linearTest.predict(xTrain))    # 선이 생김\n",
    "plt.show()\n",
    "\n",
    "\n",
    "# 검증을 위한 데이터들로 점을 찍고 예측값과 얼마나 차이가 나는지 봄\n",
    "plt.scatter(xTest,yTest,color=\"red\")\n",
    "plt.plot(xTrain, linearTest.predict(xTrain))\n",
    "plt.show()\n"
   ]
  },
  {
   "cell_type": "code",
   "execution_count": 8,
   "metadata": {},
   "outputs": [
    {
     "data": {
      "image/png": "[encoded data removed]",
      "text/plain": [
       "<Figure size 432x288 with 1 Axes>"
      ]
     },
     "metadata": {
      "needs_background": "light"
     },
     "output_type": "display_data"
    }
   ],
   "source": [
    "plt.scatter(x,y, color = \"blue\")\n",
    "plt.title(\"Experience / Salary\")\n",
    "plt.xlabel(\"Experience\")\n",
    "plt.ylabel(\"Salary\")\n",
    "plt.show()"
   ]
  },
  {
   "cell_type": "code",
   "execution_count": 16,
   "metadata": {},
   "outputs": [
    {
     "name": "stdout",
     "output_type": "stream",
     "text": [
      "10\n",
      "10\n",
      "(10, 1) (10, 1)\n"
     ]
    },
    {
     "data": {
      "image/png": "[encoded data removed]",
      "text/plain": [
       "<Figure size 432x288 with 1 Axes>"
      ]
     },
     "metadata": {
      "needs_background": "light"
     },
     "output_type": "display_data"
    },
    {
     "data": {
      "image/png": "[encoded data removed]",
      "text/plain": [
       "<Figure size 432x288 with 1 Axes>"
      ]
     },
     "metadata": {
      "needs_background": "light"
     },
     "output_type": "display_data"
    }
   ],
   "source": [
    "# 모형 추정 즉 학습을 위한 데이터 집합 (training data set)\n",
    "# 성능 검증을 위한 데이터 집합 (test data set)\n",
    "# 두 데이터 집합 모두 종속 변수값이 있어야 한다.\n",
    "# 따라서 보통은 가지고 있는 데이터 집합을 학습용과 검증용으로 나누어\n",
    "# 학습용 데이터만을 사용하여 회귀분석 모형을 만들고\n",
    "# 검증용 데이터로 성능을 계산하는 학습/검증 데이터 분리(train-test split) 방법을 사용한다.\n",
    "\n",
    "\n",
    "# 책 53 p  도 읽어봐라\n",
    "\n",
    "# Linear Regression(선형회귀) 을 이용하여 Train/Test 하고 그래프로 출력하시오\n",
    "x2 = np.array([0,1,2,3,4,5,6,7,8,9])\n",
    "print(len(x2)) # 10\n",
    "y2 = np.array([1,3,2,5,7,8,9,9,10,11])\n",
    "print(len(y2)) # 10\n",
    "x3 = np.array([1.5, 2.5, 3.5])\n",
    "x2.shape # (10,)\n",
    "y2.shape # (10,)\n",
    "\n",
    "# 축 생성\n",
    "x2_1 = x2.reshape(-1,1)\n",
    "y2_1 = y2.reshape(-1,1)\n",
    "print(x2_1.shape, y2_1.shape)     # (10, 1) (10, 1)\n",
    "\n",
    "# Train, test 분리?\n",
    "xTrain2, xTest2, yTrain2, yTest2 = train_test_split(x2_1, y2_1, test_size = 1/3, random_state=0)\n",
    "\n",
    "# LinearRegression 불러오고 x와 y 값을 묶음\n",
    "lT = LinearRegression()          # LinearRegression()를 linearTest 라는 변수로 담는다.\n",
    "lT.fit(xTrain2, yTrain2) # LinearRegression(copy_X=True, fit_intercept=True, n_jobs=None, normalize=False)\n",
    "                               # fit 을 쓰면 x 와 y 값을 묶어준다. \n",
    "\n",
    "\n",
    "yPrediction2 = lT.predict(xTest2)\n",
    "\n",
    "plt.scatter(xTrain2,yTrain2,color=\"red\")\n",
    "plt.plot(xTrain2, lT.predict(xTrain2))    # 선이 생김\n",
    "plt.show()\n",
    "\n",
    "plt.scatter(xTest2,yTest2,color=\"red\")\n",
    "plt.plot(xTrain2, lT.predict(xTrain2))\n",
    "plt.show()"
   ]
  },
  {
   "cell_type": "code",
   "execution_count": null,
   "metadata": {},
   "outputs": [],
   "source": []
  },
  {
   "cell_type": "code",
   "execution_count": null,
   "metadata": {},
   "outputs": [],
   "source": []
  }
 ],
 "metadata": {
  "kernelspec": {
   "display_name": "Python 3",
   "language": "python",
   "name": "python3"
  },
  "language_info": {
   "codemirror_mode": {
    "name": "ipython",
    "version": 3
   },
   "file_extension": ".py",
   "mimetype": "text/x-python",
   "name": "python",
   "nbconvert_exporter": "python",
   "pygments_lexer": "ipython3",
   "version": "3.7.1"
  }
 },
 "nbformat": 4,
 "nbformat_minor": 2
}
